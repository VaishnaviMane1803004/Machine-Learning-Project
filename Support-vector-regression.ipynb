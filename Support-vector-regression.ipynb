{
  "nbformat": 4,
  "nbformat_minor": 0,
  "metadata": {
    "colab": {
      "name": "ML-ISE-SVR.ipynb",
      "provenance": []
    },
    "kernelspec": {
      "name": "python3",
      "display_name": "Python 3"
    },
    "language_info": {
      "name": "python"
    }
  },
  "cells": [
    {
      "cell_type": "code",
      "metadata": {
        "id" : "0NkjP1-kEU6b"
      },
      "source": [
        "import numpy as np\n",
        "import matplotlib.pyplot as plt\n",
        "import pandas as pd"
      ],
      "execution_count" : null,
      "outputs" : []
    },
    {
      "cell_type" : "code",
      "metadata" : {
        "colab" : {
          "resources": {
            "http://localhost:8080/nbextensions/google.colab/files.js": {
              "data": "Ly8gQ29weXJpZ2h0IDIwMTcgR29vZ2xlIExMQwovLwovLyBMaWNlbnNlZCB1bmRlciB0aGUgQXBhY2hlIExpY2Vuc2UsIFZlcnNpb24gMi4wICh0aGUgIkxpY2Vuc2UiKTsKLy8geW91IG1heSBub3QgdXNlIHRoaXMgZmlsZSBleGNlcHQgaW4gY29tcGxpYW5jZSB3aXRoIHRoZSBMaWNlbnNlLgovLyBZb3UgbWF5IG9idGFpbiBhIGNvcHkgb2YgdGhlIExpY2Vuc2UgYXQKLy8KLy8gICAgICBodHRwOi8vd3d3LmFwYWNoZS5vcmcvbGljZW5zZXMvTElDRU5TRS0yLjAKLy8KLy8gVW5sZXNzIHJlcXVpcmVkIGJ5IGFwcGxpY2FibGUgbGF3IG9yIGFncmVlZCB0byBpbiB3cml0aW5nLCBzb2Z0d2FyZQovLyBkaXN0cmlidXRlZCB1bmRlciB0aGUgTGljZW5zZSBpcyBkaXN0cmlidXRlZCBvbiBhbiAiQVMgSVMiIEJBU0lTLAovLyBXSVRIT1VUIFdBUlJBTlRJRVMgT1IgQ09ORElUSU9OUyBPRiBBTlkgS0lORCwgZWl0aGVyIGV4cHJlc3Mgb3IgaW1wbGllZC4KLy8gU2VlIHRoZSBMaWNlbnNlIGZvciB0aGUgc3BlY2lmaWMgbGFuZ3VhZ2UgZ292ZXJuaW5nIHBlcm1pc3Npb25zIGFuZAovLyBsaW1pdGF0aW9ucyB1bmRlciB0aGUgTGljZW5zZS4KCi8qKgogKiBAZmlsZW92ZXJ2aWV3IEhlbHBlcnMgZm9yIGdvb2dsZS5jb2xhYiBQeXRob24gbW9kdWxlLgogKi8KKGZ1bmN0aW9uKHNjb3BlKSB7CmZ1bmN0aW9uIHNwYW4odGV4dCwgc3R5bGVBdHRyaWJ1dGVzID0ge30pIHsKICBjb25zdCBlbGVtZW50ID0gZG9jdW1lbnQuY3JlYXRlRWxlbWVudCgnc3BhbicpOwogIGVsZW1lbnQudGV4dENvbnRlbnQgPSB0ZXh0OwogIGZvciAoY29uc3Qga2V5IG9mIE9iamVjdC5rZXlzKHN0eWxlQXR0cmlidXRlcykpIHsKICAgIGVsZW1lbnQuc3R5bGVba2V5XSA9IHN0eWxlQXR0cmlidXRlc1trZXldOwogIH0KICByZXR1cm4gZWxlbWVudDsKfQoKLy8gTWF4IG51bWJlciBvZiBieXRlcyB3aGljaCB3aWxsIGJlIHVwbG9hZGVkIGF0IGEgdGltZS4KY29uc3QgTUFYX1BBWUxPQURfU0laRSA9IDEwMCAqIDEwMjQ7CgpmdW5jdGlvbiBfdXBsb2FkRmlsZXMoaW5wdXRJZCwgb3V0cHV0SWQpIHsKICBjb25zdCBzdGVwcyA9IHVwbG9hZEZpbGVzU3RlcChpbnB1dElkLCBvdXRwdXRJZCk7CiAgY29uc3Qgb3V0cHV0RWxlbWVudCA9IGRvY3VtZW50LmdldEVsZW1lbnRCeUlkKG91dHB1dElkKTsKICAvLyBDYWNoZSBzdGVwcyBvbiB0aGUgb3V0cHV0RWxlbWVudCB0byBtYWtlIGl0IGF2YWlsYWJsZSBmb3IgdGhlIG5leHQgY2FsbAogIC8vIHRvIHVwbG9hZEZpbGVzQ29udGludWUgZnJvbSBQeXRob24uCiAgb3V0cHV0RWxlbWVudC5zdGVwcyA9IHN0ZXBzOwoKICByZXR1cm4gX3VwbG9hZEZpbGVzQ29udGludWUob3V0cHV0SWQpOwp9CgovLyBUaGlzIGlzIHJvdWdobHkgYW4gYXN5bmMgZ2VuZXJhdG9yIChub3Qgc3VwcG9ydGVkIGluIHRoZSBicm93c2VyIHlldCksCi8vIHdoZXJlIHRoZXJlIGFyZSBtdWx0aXBsZSBhc3luY2hyb25vdXMgc3RlcHMgYW5kIHRoZSBQeXRob24gc2lkZSBpcyBnb2luZwovLyB0byBwb2xsIGZvciBjb21wbGV0aW9uIG9mIGVhY2ggc3RlcC4KLy8gVGhpcyB1c2VzIGEgUHJvbWlzZSB0byBibG9jayB0aGUgcHl0aG9uIHNpZGUgb24gY29tcGxldGlvbiBvZiBlYWNoIHN0ZXAsCi8vIHRoZW4gcGFzc2VzIHRoZSByZXN1bHQgb2YgdGhlIHByZXZpb3VzIHN0ZXAgYXMgdGhlIGlucHV0IHRvIHRoZSBuZXh0IHN0ZXAuCmZ1bmN0aW9uIF91cGxvYWRGaWxlc0NvbnRpbnVlKG91dHB1dElkKSB7CiAgY29uc3Qgb3V0cHV0RWxlbWVudCA9IGRvY3VtZW50LmdldEVsZW1lbnRCeUlkKG91dHB1dElkKTsKICBjb25zdCBzdGVwcyA9IG91dHB1dEVsZW1lbnQuc3RlcHM7CgogIGNvbnN0IG5leHQgPSBzdGVwcy5uZXh0KG91dHB1dEVsZW1lbnQubGFzdFByb21pc2VWYWx1ZSk7CiAgcmV0dXJuIFByb21pc2UucmVzb2x2ZShuZXh0LnZhbHVlLnByb21pc2UpLnRoZW4oKHZhbHVlKSA9PiB7CiAgICAvLyBDYWNoZSB0aGUgbGFzdCBwcm9taXNlIHZhbHVlIHRvIG1ha2UgaXQgYXZhaWxhYmxlIHRvIHRoZSBuZXh0CiAgICAvLyBzdGVwIG9mIHRoZSBnZW5lcmF0b3IuCiAgICBvdXRwdXRFbGVtZW50Lmxhc3RQcm9taXNlVmFsdWUgPSB2YWx1ZTsKICAgIHJldHVybiBuZXh0LnZhbHVlLnJlc3BvbnNlOwogIH0pOwp9CgovKioKICogR2VuZXJhdG9yIGZ1bmN0aW9uIHdoaWNoIGlzIGNhbGxlZCBiZXR3ZWVuIGVhY2ggYXN5bmMgc3RlcCBvZiB0aGUgdXBsb2FkCiAqIHByb2Nlc3MuCiAqIEBwYXJhbSB7c3RyaW5nfSBpbnB1dElkIEVsZW1lbnQgSUQgb2YgdGhlIGlucHV0IGZpbGUgcGlja2VyIGVsZW1lbnQuCiAqIEBwYXJhbSB7c3RyaW5nfSBvdXRwdXRJZCBFbGVtZW50IElEIG9mIHRoZSBvdXRwdXQgZGlzcGxheS4KICogQHJldHVybiB7IUl0ZXJhYmxlPCFPYmplY3Q+fSBJdGVyYWJsZSBvZiBuZXh0IHN0ZXBzLgogKi8KZnVuY3Rpb24qIHVwbG9hZEZpbGVzU3RlcChpbnB1dElkLCBvdXRwdXRJZCkgewogIGNvbnN0IGlucHV0RWxlbWVudCA9IGRvY3VtZW50LmdldEVsZW1lbnRCeUlkKGlucHV0SWQpOwogIGlucHV0RWxlbWVudC5kaXNhYmxlZCA9IGZhbHNlOwoKICBjb25zdCBvdXRwdXRFbGVtZW50ID0gZG9jdW1lbnQuZ2V0RWxlbWVudEJ5SWQob3V0cHV0SWQpOwogIG91dHB1dEVsZW1lbnQuaW5uZXJIVE1MID0gJyc7CgogIGNvbnN0IHBpY2tlZFByb21pc2UgPSBuZXcgUHJvbWlzZSgocmVzb2x2ZSkgPT4gewogICAgaW5wdXRFbGVtZW50LmFkZEV2ZW50TGlzdGVuZXIoJ2NoYW5nZScsIChlKSA9PiB7CiAgICAgIHJlc29sdmUoZS50YXJnZXQuZmlsZXMpOwogICAgfSk7CiAgfSk7CgogIGNvbnN0IGNhbmNlbCA9IGRvY3VtZW50LmNyZWF0ZUVsZW1lbnQoJ2J1dHRvbicpOwogIGlucHV0RWxlbWVudC5wYXJlbnRFbGVtZW50LmFwcGVuZENoaWxkKGNhbmNlbCk7CiAgY2FuY2VsLnRleHRDb250ZW50ID0gJ0NhbmNlbCB1cGxvYWQnOwogIGNvbnN0IGNhbmNlbFByb21pc2UgPSBuZXcgUHJvbWlzZSgocmVzb2x2ZSkgPT4gewogICAgY2FuY2VsLm9uY2xpY2sgPSAoKSA9PiB7CiAgICAgIHJlc29sdmUobnVsbCk7CiAgICB9OwogIH0pOwoKICAvLyBXYWl0IGZvciB0aGUgdXNlciB0byBwaWNrIHRoZSBmaWxlcy4KICBjb25zdCBmaWxlcyA9IHlpZWxkIHsKICAgIHByb21pc2U6IFByb21pc2UucmFjZShbcGlja2VkUHJvbWlzZSwgY2FuY2VsUHJvbWlzZV0pLAogICAgcmVzcG9uc2U6IHsKICAgICAgYWN0aW9uOiAnc3RhcnRpbmcnLAogICAgfQogIH07CgogIGNhbmNlbC5yZW1vdmUoKTsKCiAgLy8gRGlzYWJsZSB0aGUgaW5wdXQgZWxlbWVudCBzaW5jZSBmdXJ0aGVyIHBpY2tzIGFyZSBub3QgYWxsb3dlZC4KICBpbnB1dEVsZW1lbnQuZGlzYWJsZWQgPSB0cnVlOwoKICBpZiAoIWZpbGVzKSB7CiAgICByZXR1cm4gewogICAgICByZXNwb25zZTogewogICAgICAgIGFjdGlvbjogJ2NvbXBsZXRlJywKICAgICAgfQogICAgfTsKICB9CgogIGZvciAoY29uc3QgZmlsZSBvZiBmaWxlcykgewogICAgY29uc3QgbGkgPSBkb2N1bWVudC5jcmVhdGVFbGVtZW50KCdsaScpOwogICAgbGkuYXBwZW5kKHNwYW4oZmlsZS5uYW1lLCB7Zm9udFdlaWdodDogJ2JvbGQnfSkpOwogICAgbGkuYXBwZW5kKHNwYW4oCiAgICAgICAgYCgke2ZpbGUudHlwZSB8fCAnbi9hJ30pIC0gJHtmaWxlLnNpemV9IGJ5dGVzLCBgICsKICAgICAgICBgbGFzdCBtb2RpZmllZDogJHsKICAgICAgICAgICAgZmlsZS5sYXN0TW9kaWZpZWREYXRlID8gZmlsZS5sYXN0TW9kaWZpZWREYXRlLnRvTG9jYWxlRGF0ZVN0cmluZygpIDoKICAgICAgICAgICAgICAgICAgICAgICAgICAgICAgICAgICAgJ24vYSd9IC0gYCkpOwogICAgY29uc3QgcGVyY2VudCA9IHNwYW4oJzAlIGRvbmUnKTsKICAgIGxpLmFwcGVuZENoaWxkKHBlcmNlbnQpOwoKICAgIG91dHB1dEVsZW1lbnQuYXBwZW5kQ2hpbGQobGkpOwoKICAgIGNvbnN0IGZpbGVEYXRhUHJvbWlzZSA9IG5ldyBQcm9taXNlKChyZXNvbHZlKSA9PiB7CiAgICAgIGNvbnN0IHJlYWRlciA9IG5ldyBGaWxlUmVhZGVyKCk7CiAgICAgIHJlYWRlci5vbmxvYWQgPSAoZSkgPT4gewogICAgICAgIHJlc29sdmUoZS50YXJnZXQucmVzdWx0KTsKICAgICAgfTsKICAgICAgcmVhZGVyLnJlYWRBc0FycmF5QnVmZmVyKGZpbGUpOwogICAgfSk7CiAgICAvLyBXYWl0IGZvciB0aGUgZGF0YSB0byBiZSByZWFkeS4KICAgIGxldCBmaWxlRGF0YSA9IHlpZWxkIHsKICAgICAgcHJvbWlzZTogZmlsZURhdGFQcm9taXNlLAogICAgICByZXNwb25zZTogewogICAgICAgIGFjdGlvbjogJ2NvbnRpbnVlJywKICAgICAgfQogICAgfTsKCiAgICAvLyBVc2UgYSBjaHVua2VkIHNlbmRpbmcgdG8gYXZvaWQgbWVzc2FnZSBzaXplIGxpbWl0cy4gU2VlIGIvNjIxMTU2NjAuCiAgICBsZXQgcG9zaXRpb24gPSAwOwogICAgZG8gewogICAgICBjb25zdCBsZW5ndGggPSBNYXRoLm1pbihmaWxlRGF0YS5ieXRlTGVuZ3RoIC0gcG9zaXRpb24sIE1BWF9QQVlMT0FEX1NJWkUpOwogICAgICBjb25zdCBjaHVuayA9IG5ldyBVaW50OEFycmF5KGZpbGVEYXRhLCBwb3NpdGlvbiwgbGVuZ3RoKTsKICAgICAgcG9zaXRpb24gKz0gbGVuZ3RoOwoKICAgICAgY29uc3QgYmFzZTY0ID0gYnRvYShTdHJpbmcuZnJvbUNoYXJDb2RlLmFwcGx5KG51bGwsIGNodW5rKSk7CiAgICAgIHlpZWxkIHsKICAgICAgICByZXNwb25zZTogewogICAgICAgICAgYWN0aW9uOiAnYXBwZW5kJywKICAgICAgICAgIGZpbGU6IGZpbGUubmFtZSwKICAgICAgICAgIGRhdGE6IGJhc2U2NCwKICAgICAgICB9LAogICAgICB9OwoKICAgICAgbGV0IHBlcmNlbnREb25lID0gZmlsZURhdGEuYnl0ZUxlbmd0aCA9PT0gMCA/CiAgICAgICAgICAxMDAgOgogICAgICAgICAgTWF0aC5yb3VuZCgocG9zaXRpb24gLyBmaWxlRGF0YS5ieXRlTGVuZ3RoKSAqIDEwMCk7CiAgICAgIHBlcmNlbnQudGV4dENvbnRlbnQgPSBgJHtwZXJjZW50RG9uZX0lIGRvbmVgOwoKICAgIH0gd2hpbGUgKHBvc2l0aW9uIDwgZmlsZURhdGEuYnl0ZUxlbmd0aCk7CiAgfQoKICAvLyBBbGwgZG9uZS4KICB5aWVsZCB7CiAgICByZXNwb25zZTogewogICAgICBhY3Rpb246ICdjb21wbGV0ZScsCiAgICB9CiAgfTsKfQoKc2NvcGUuZ29vZ2xlID0gc2NvcGUuZ29vZ2xlIHx8IHt9OwpzY29wZS5nb29nbGUuY29sYWIgPSBzY29wZS5nb29nbGUuY29sYWIgfHwge307CnNjb3BlLmdvb2dsZS5jb2xhYi5fZmlsZXMgPSB7CiAgX3VwbG9hZEZpbGVzLAogIF91cGxvYWRGaWxlc0NvbnRpbnVlLAp9Owp9KShzZWxmKTsK",
              "ok": true,
              "headers": [
                [
                  "content-type",
                  "application/javascript"
                ]
              ],
              "status": 200,
              "status_text": ""
            }
          },
          "base_uri": "https://localhost:8080/",
          "height": 72
        },
        "id": "Zjp3dk_JEmie",
        "outputId": "c0ca36a6-f5c5-4f6e-a4ec-c2d421b17568"
      },
      "source": [
        "from google.colab import files\n",
        "uploaded = files.upload()"
      ],
      "execution_count": null,
      "outputs": [
        {
          "output_type": "display_data",
          "data": {
            "text/html": [
              "\n",
              "     <input type=\"file\" id=\"files-798bdc40-ce59-43da-873f-e5532e46eceb\" name=\"files[]\" multiple disabled\n",
              "        style=\"border:none\" />\n",
              "     <output id=\"result-798bdc40-ce59-43da-873f-e5532e46eceb\">\n",
              "      Upload widget is only available when the cell has been executed in the\n",
              "      current browser session. Please rerun this cell to enable.\n",
              "      </output>\n",
              "      <script src=\"/nbextensions/google.colab/files.js\"></script> "
            ],
            "text/plain": [
              "<IPython.core.display.HTML object>"
            ]
          },
          "metadata": {}
        },
        {
          "output_type": "stream",
          "name": "stdout",
          "text": [
            "Saving rainfall in india 1901-2015.csv to rainfall in india 1901-2015 (18).csv\n"
          ]
        }
      ]
    },
    {
      "cell_type": "markdown",
      "metadata": {
        "id": "4ww3sge3Ncyx"
      },
      "source": [
        "# Exploratory Data Analysis"
      ]
    },
    {
      "cell_type": "code",
      "metadata": {
        "id": "9_U0Htg_E6Gp"
      },
      "source": [
        "dataset = pd.read_csv('rainfall in india 1901-2015.csv')"
      ],
      "execution_count": null,
      "outputs": []
    },
    {
      "cell_type": "code",
      "metadata": {
        "id": "l1-uhEyeF3Ii"
      },
      "source": [
        "dataset.dropna(how='any', inplace=True)"
      ],
      "execution_count": null,
      "outputs": []
    },
    {
      "cell_type": "code",
      "metadata": {
        "id": "i5xRLHI0IKXk"
      },
      "source": [
        "X = dataset.iloc[:,[0,1,-1,-2,-3,-4]].values\n",
        "Y = dataset.iloc[:,-5].values"
      ],
      "execution_count": null,
      "outputs": []
    },
    {
      "cell_type": "code",
      "metadata": {
        "colab": {
          "base_uri": "https://localhost:8080/"
        },
        "id": "7uSlH3tpJ4TC",
        "outputId": "377b39ad-f64e-4901-b3a2-4047c5d95f42"
      },
      "source": [
        "print(X)"
      ],
      "execution_count": null,
      "outputs": [
        {
          "output_type": "stream",
          "name": "stdout",
          "text": [
            "[['ANDAMAN & NICOBAR ISLANDS' 1901 980.3 1696.3 560.3 136.3]\n",
            " ['ANDAMAN & NICOBAR ISLANDS' 1902 716.7 2185.9 458.3 159.8]\n",
            " ['ANDAMAN & NICOBAR ISLANDS' 1903 690.6 1874.0 236.1 156.7]\n",
            " ...\n",
            " ['LAKSHADWEEP' 2013 177.6 1057.0 131.1 60.6]\n",
            " ['LAKSHADWEEP' 2014 290.5 958.5 76.7 69.3]\n",
            " ['LAKSHADWEEP' 2015 555.4 860.9 223.9 2.7]]\n"
          ]
        }
      ]
    },
    {
      "cell_type": "code",
      "metadata": {
        "id": "i-ig0tVwLUaJ"
      },
      "source": [
        "Y = Y.reshape(-1,1)"
      ],
      "execution_count": null,
      "outputs": []
    },
    {
      "cell_type": "code",
      "metadata": {
        "colab": {
          "base_uri": "https://localhost:8080/"
        },
        "id": "Bnz2fuiSJ8Di",
        "outputId": "c23d059e-f0cf-47c0-fd5e-721aae1f0e05"
      },
      "source": [
        "print(Y)"
      ],
      "execution_count": null,
      "outputs": [
        {
          "output_type": "stream",
          "name": "stdout",
          "text": [
            "[[3373.2]\n",
            " [3520.7]\n",
            " [2957.4]\n",
            " ...\n",
            " [1426.3]\n",
            " [1395. ]\n",
            " [1642.9]]\n"
          ]
        }
      ]
    },
    {
      "cell_type": "markdown",
      "metadata": {
        "id": "ytBOy7shNOTx"
      },
      "source": [
        "# Dealing with invalid dataset"
      ]
    },
    {
      "cell_type": "code",
      "metadata": {
        "id": "XbP381yOKvaa"
      },
      "source": [
        "from sklearn.impute import SimpleImputer\n",
        "imputer = SimpleImputer(missing_values=np.nan,strategy='most_frequent')\n",
        "X = imputer.fit_transform(X)\n",
        "Y = imputer.fit_transform(Y)"
      ],
      "execution_count": null,
      "outputs": []
    },
    {
      "cell_type": "code",
      "metadata": {
        "colab": {
          "base_uri": "https://localhost:8080/"
        },
        "id": "WbFCl_flJ9X6",
        "outputId": "4b88e422-6909-4137-e486-5acd2c02f4bb"
      },
      "source": [
        "print(X)"
      ],
      "execution_count": null,
      "outputs": [
        {
          "output_type": "stream",
          "name": "stdout",
          "text": [
            "[['ANDAMAN & NICOBAR ISLANDS' 1901 980.3 1696.3 560.3 136.3]\n",
            " ['ANDAMAN & NICOBAR ISLANDS' 1902 716.7 2185.9 458.3 159.8]\n",
            " ['ANDAMAN & NICOBAR ISLANDS' 1903 690.6 1874.0 236.1 156.7]\n",
            " ...\n",
            " ['LAKSHADWEEP' 2013 177.6 1057.0 131.1 60.6]\n",
            " ['LAKSHADWEEP' 2014 290.5 958.5 76.7 69.3]\n",
            " ['LAKSHADWEEP' 2015 555.4 860.9 223.9 2.7]]\n"
          ]
        }
      ]
    },
    {
      "cell_type": "code",
      "metadata": {
        "colab": {
          "base_uri": "https://localhost:8080/"
        },
        "id": "BHW43MMuM1P7",
        "outputId": "906cd64a-ab37-48ea-a137-bada580943ed"
      },
      "source": [
        "print(Y)"
      ],
      "execution_count": null,
      "outputs": [
        {
          "output_type": "stream",
          "name": "stdout",
          "text": [
            "[[3373.2]\n",
            " [3520.7]\n",
            " [2957.4]\n",
            " ...\n",
            " [1426.3]\n",
            " [1395. ]\n",
            " [1642.9]]\n"
          ]
        }
      ]
    },
    {
      "cell_type": "markdown",
      "metadata": {
        "id": "RsAb7N3SNAfk"
      },
      "source": [
        "# Encoding dataset"
      ]
    },
    {
      "cell_type": "code",
      "metadata": {
        "id": "Unm2WZJkNGWB"
      },
      "source": [
        "from sklearn.preprocessing import LabelEncoder\n",
        "le1 = LabelEncoder()\n",
        "X[:,0] = le1.fit_transform(X[:,0])"
      ],
      "execution_count": null,
      "outputs": []
    },
    {
      "cell_type": "code",
      "metadata": {
        "colab": {
          "base_uri": "https://localhost:8080/"
        },
        "id": "LhAMq1wySHt6",
        "outputId": "055069d6-7187-4a5c-b5d3-1002ef32af76"
      },
      "source": [
        "print(X)"
      ],
      "execution_count": null,
      "outputs": [
        {
          "output_type": "stream",
          "name": "stdout",
          "text": [
            "[[0 1901 980.3 1696.3 560.3 136.3]\n",
            " [0 1902 716.7 2185.9 458.3 159.8]\n",
            " [0 1903 690.6 1874.0 236.1 156.7]\n",
            " ...\n",
            " [18 2013 177.6 1057.0 131.1 60.6]\n",
            " [18 2014 290.5 958.5 76.7 69.3]\n",
            " [18 2015 555.4 860.9 223.9 2.7]]\n"
          ]
        }
      ]
    },
    {
      "cell_type": "code",
      "metadata": {
        "colab": {
          "base_uri": "https://localhost:8080/"
        },
        "id": "eQe-0IDxWmNQ",
        "outputId": "06386ff3-3f6a-4f79-ec40-400d17232797"
      },
      "source": [
        "\n",
        "print(Y)"
      ],
      "execution_count": null,
      "outputs": [
        {
          "output_type": "stream",
          "name": "stdout",
          "text": [
            "[[3373.2]\n",
            " [3520.7]\n",
            " [2957.4]\n",
            " ...\n",
            " [1426.3]\n",
            " [1395. ]\n",
            " [1642.9]]\n"
          ]
        }
      ]
    },
    {
      "cell_type": "markdown",
      "metadata": {
        "id": "uIJJH9v5SftF"
      },
      "source": [
        "# Feature Scaling"
      ]
    },
    {
      "cell_type": "code",
      "metadata": {
        "id": "z0bXI1MDSkDx"
      },
      "source": [
        "from sklearn.preprocessing import StandardScaler\n",
        "sc = StandardScaler()\n",
        "X = sc.fit_transform(X)"
      ],
      "execution_count": null,
      "outputs": []
    },
    {
      "cell_type": "code",
      "metadata": {
        "colab": {
          "base_uri": "https://localhost:8080/"
        },
        "id": "hURQKih4TmZp",
        "outputId": "ae120e35-fc40-400c-92e0-d556b5ca0455"
      },
      "source": [
        "print(X)"
      ],
      "execution_count": null,
      "outputs": [
        {
          "output_type": "stream",
          "name": "stdout",
          "text": [
            "[[-1.70794392 -1.72941497  4.96963041  0.89812848  2.02437445  1.6208145 ]\n",
            " [-1.70794392 -1.69924441  3.38543641  1.59172697  1.51511613  2.01825062]\n",
            " [-1.70794392 -1.66907385  3.22857957  1.1498696   0.40573183  1.96582288]\n",
            " ...\n",
            " [ 0.03462896  1.64968797  0.1455313  -0.00754455 -0.11850467  0.34056283]\n",
            " [ 0.03462896  1.67985853  0.82404232 -0.14708591 -0.39010911  0.48769876]\n",
            " [ 0.03462896  1.71002909  2.41604911 -0.28535228  0.34482054 -0.63865212]]\n"
          ]
        }
      ]
    },
    {
      "cell_type": "code",
      "metadata": {
        "colab": {
          "base_uri": "https://localhost:8080/"
        },
        "id": "HLG4fYecUGhr",
        "outputId": "43da5ea2-6375-4148-8b65-29504d5c6e14"
      },
      "source": [
        "print(Y)"
      ],
      "execution_count": null,
      "outputs": [
        {
          "output_type": "stream",
          "name": "stdout",
          "text": [
            "[[3373.2]\n",
            " [3520.7]\n",
            " [2957.4]\n",
            " ...\n",
            " [1426.3]\n",
            " [1395. ]\n",
            " [1642.9]]\n"
          ]
        }
      ]
    },
    {
      "cell_type": "markdown",
      "metadata": {
        "id": "ORy8PyMUTsV8"
      },
      "source": [
        "# Splitting Dataset into Training and Testing data"
      ]
    },
    {
      "cell_type": "code",
      "metadata": {
        "id": "78s6s3TfTxDi"
      },
      "source": [
        "from sklearn.model_selection import train_test_split\n",
        "X_train,X_test,Y_train,Y_test = train_test_split(X,Y,test_size=0.2,random_state=0)"
      ],
      "execution_count": null,
      "outputs": []
    },
    {
      "cell_type": "code",
      "metadata": {
        "colab": {
          "base_uri": "https://localhost:8080/"
        },
        "id": "YuyPxbYgT16Z",
        "outputId": "c4a56d0b-6b28-4eac-ae70-49e90eb3265c"
      },
      "source": [
        "print(X_train)"
      ],
      "execution_count": null,
      "outputs": [
        {
          "output_type": "stream",
          "name": "stdout",
          "text": [
            "[[ 0.22824817 -0.73378643 -0.34306874 -0.42659363 -0.70714738 -0.58284194]\n",
            " [-0.64303827  0.26184212 -0.78899892 -0.26707732 -0.55986188 -0.68431499]\n",
            " [ 1.29315382 -0.49242193 -0.54499939  0.41051287 -0.24432143  2.54252805]\n",
            " ...\n",
            " [-0.44941906  0.62388886 -0.49692066 -0.95146749  0.59695334  4.1390374 ]\n",
            " [-0.06218064  1.71002909 -0.20784733  1.19902782 -0.51492732 -0.63865212]\n",
            " [ 0.22824817 -1.45787991 -0.29078313 -0.05245278 -0.75308048 -0.68431499]]\n"
          ]
        }
      ]
    },
    {
      "cell_type": "code",
      "metadata": {
        "colab": {
          "base_uri": "https://localhost:8080/"
        },
        "id": "PiLxWrU_T82h",
        "outputId": "9a58e9b9-bf24-46f8-9450-fbae31a25c7d"
      },
      "source": [
        "print(Y_train)"
      ],
      "execution_count": null,
      "outputs": [
        {
          "output_type": "stream",
          "name": "stdout",
          "text": [
            "[[ 876.6]\n",
            " [ 938.7]\n",
            " [1711.4]\n",
            " ...\n",
            " [1021. ]\n",
            " [2082. ]\n",
            " [1134.4]]\n"
          ]
        }
      ]
    },
    {
      "cell_type": "markdown",
      "metadata": {
        "id": "m4BhwQMbURME"
      },
      "source": [
        "# Training the model"
      ]
    },
    {
      "cell_type": "code",
      "metadata": {
        "colab": {
          "base_uri": "https://localhost:8080/"
        },
        "id": "-LwhziehaUsY",
        "outputId": "0ae06f1d-fc00-4897-8776-1ae37e17b906"
      },
      "source": [
        "from sklearn.svm import SVR\n",
        "regressor = SVR(kernel = 'rbf')\n",
        "regressor.fit(X_train, Y_train)"
      ],
      "execution_count": null,
      "outputs": [
        {
          "output_type": "stream",
          "name": "stderr",
          "text": [
            "/usr/local/lib/python3.7/dist-packages/sklearn/utils/validation.py:760: DataConversionWarning: A column-vector y was passed when a 1d array was expected. Please change the shape of y to (n_samples, ), for example using ravel().\n",
            "  y = column_or_1d(y, warn=True)\n"
          ]
        },
        {
          "output_type": "execute_result",
          "data": {
            "text/plain": [
              "SVR(C=1.0, cache_size=200, coef0=0.0, degree=3, epsilon=0.1, gamma='scale',\n",
              "    kernel='rbf', max_iter=-1, shrinking=True, tol=0.001, verbose=False)"
            ]
          },
          "metadata": {},
          "execution_count": 22
        }
      ]
    },
    {
      "cell_type": "code",
      "metadata": {
        "colab": {
          "base_uri": "https://localhost:8080/"
        },
        "id": "Krfb4QubfDY5",
        "outputId": "04f3e932-47e6-4ded-b4df-3b557fa14903"
      },
      "source": [
        "regressor.score(X_train,Y_train)"
      ],
      "execution_count": null,
      "outputs": [
        {
          "output_type": "execute_result",
          "data": {
            "text/plain": [
              "0.252115285355737"
            ]
          },
          "metadata": {},
          "execution_count": 23
        }
      ]
    },
    {
      "cell_type": "code",
      "metadata": {
        "id": "74H1Az_0fRNi"
      },
      "source": [
        "y_pred = np.array(regressor.predict(X_test),dtype=int)\n",
        "Y_test = np.array(Y_test,dtype=int)"
      ],
      "execution_count": null,
      "outputs": []
    },
    {
      "cell_type": "code",
      "metadata": {
        "colab": {
          "base_uri": "https://localhost:8080/"
        },
        "id": "V7faCjsqfoKT",
        "outputId": "dbcde590-5d86-415f-ecc3-902201696d95"
      },
      "source": [
        "print(y_pred)"
      ],
      "execution_count": null,
      "outputs": [
        {
          "output_type": "stream",
          "name": "stdout",
          "text": [
            "[1025  954 1414 1029 1452 1477 1099  954 1436 1062 1456 1426 1150 1417\n",
            "  929  867  985  991 1106 1429 1015 1093  858 1281 1021 1084 1213  990\n",
            " 1126  975 1221 1398 1394 1298 1495 1047 1024  980 1187 1397 1508  949\n",
            " 1457  908 1171 1023 1262 1276 1414 1174 1015 1468 1128 1266  896 1238\n",
            "  980 1484 1126 1014  905 1302 1423 1233 1539 1158 1371  950 1074 1096\n",
            "  876 1375 1156 1211 1256 1336  989 1036 1082  827 1442 1217 1173 1512\n",
            " 1003 1268 1107 1279 1482 1149 1482 1277 1081  990 1464 1188 1067 1224\n",
            " 1460 1456 1041  973 1165  866 1442 1200 1179  959  999 1039  987 1156\n",
            "  910 1002 1168 1008  944 1011  947 1149 1016 1376  926  987 1467  923\n",
            " 1282 1211 1012 1439 1211 1112 1437  981 1044 1231  948 1476 1471 1432\n",
            " 1106 1300  942 1193 1234 1257  913 1445  926 1039 1120 1282 1442 1478\n",
            " 1449  951  937 1376 1360 1163 1294 1403 1504 1448 1033 1194 1447 1470\n",
            " 1447 1410 1501 1233  979 1055 1105 1420 1039 1136  928 1283 1342 1316\n",
            " 1007 1461 1284 1220 1275 1228 1071 1317 1432 1380 1032  848 1450 1456\n",
            " 1210 1456  872 1015 1033 1084  915 1312  976  966 1351 1489 1244 1201\n",
            " 1124 1224 1187 1240 1485 1491 1060  847 1035  976 1004 1238 1316 1434\n",
            "  966  908 1482 1409 1440 1212  847 1455  904 1262  850 1033 1100 1107\n",
            " 1125  913 1200 1108 1101  921 1396 1430  995 1229  951  844 1000 1477\n",
            " 1445 1081 1506  963 1447 1441 1443 1053 1161 1283 1264 1002  941 1480\n",
            " 1113 1180 1174 1443 1025 1373 1165 1081 1430 1374 1143 1133 1133 1005\n",
            " 1261 1195  984 1457 1435  999 1003  933  848  953 1458 1446 1094  926\n",
            " 1225  945  943 1174 1474 1140 1226 1419  903 1030 1177 1166 1154 1267\n",
            " 1219 1490 1477 1420 1137  922 1119 1502 1454 1213  979 1417 1512 1438\n",
            " 1032 1005 1036 1468 1310 1506  873  958 1305 1007  918 1099 1221 1016\n",
            "  961 1087 1093 1258  989 1107  985  887  822 1312 1210 1157 1461 1475\n",
            " 1096 1152  949 1070  823 1009 1414 1038 1142 1220 1550  959 1090 1376\n",
            " 1438 1411 1007 1147 1253 1372 1281 1469  858 1235 1185 1280 1183 1446\n",
            " 1127 1028 1399 1212  926 1090 1107 1289 1173  912 1190 1028 1116 1047\n",
            " 1521 1229 1358 1065  945  950 1411 1123 1290  932 1418  985 1272 1231\n",
            " 1394 1307  910 1035 1014  947 1038 1032 1126 1032 1148 1201 1304 1275\n",
            "  881 1106 1030 1079 1167 1225  923 1301 1035 1249 1219 1057  920  966\n",
            "  970  959 1279  990  989 1124 1094 1374 1065 1001 1496 1219 1084  872\n",
            " 1430 1031 1233  942 1282 1444 1040 1241 1203 1355 1206  993 1312 1233\n",
            " 1155 1492 1433 1207  849 1264  987 1144 1012  874 1103 1027 1115 1017\n",
            " 1469 1441 1184 1500 1160  911 1164  862  973 1485 1167 1456 1354  973\n",
            " 1232 1135 1220 1078  901 1173 1410  965 1292 1216 1051  970 1483 1010\n",
            " 1189 1306 1061  928 1374  921 1392  874 1165 1108 1150 1098 1004 1402\n",
            "  966  946  981 1531 1250  941  987 1459 1284  946  984 1406 1160 1087\n",
            " 1413 1260 1324  903 1041 1480 1208 1169 1178 1259 1191  970 1106  870\n",
            " 1009 1479 1409  998 1108 1173 1475 1116 1353  934 1104 1430 1021 1449\n",
            " 1307  968 1468 1194 1471 1406 1018  992 1272 1216 1053 1478  960 1391\n",
            " 1257 1095  941 1081  976 1428 1019  995 1407  903 1066 1230  999 1536\n",
            " 1262 1163 1071 1474 1326  977 1412 1297  969 1252 1109 1175  930  894\n",
            " 1300  953 1435 1454  999 1243 1211 1022 1256 1465 1196 1294 1196 1134\n",
            " 1120 1435  949 1268 1003 1410 1115 1016  960 1045  857 1310  875  966\n",
            " 1285 1013 1436 1490 1508 1313 1181  999 1034 1244 1494  884 1232 1283\n",
            " 1464 1086  983 1115 1225 1260 1269 1450 1437 1486  909 1151 1344 1179\n",
            " 1229 1274 1142  889 1050  952 1197 1236 1434 1028 1037 1143 1455 1280\n",
            " 1106 1388  944 1125 1412 1018  820 1152 1156 1248 1440 1461 1291 1381\n",
            " 1399 1204 1382 1203 1062 1260 1414 1206 1516 1083  968  959  924 1471\n",
            " 1087 1141 1051 1235 1064 1149  860  934 1062 1400 1280 1468 1271 1284\n",
            " 1472 1244  940  871  970 1245 1490  937 1273  891 1447 1361 1381 1512\n",
            " 1500 1096 1291 1473 1180  969  952 1121 1053 1234 1489 1415 1240  969\n",
            "  952 1486 1204  879 1239  913 1419 1473 1408 1170 1411  973 1303  833\n",
            " 1483  937 1277 1138 1444 1246 1191 1339  899 1418 1024 1446 1432 1138\n",
            " 1350 1067 1086 1174 1341 1077 1082 1015 1432  916  878 1006 1101  961\n",
            "  877 1487 1018 1208  988  964  917 1144 1283 1028 1407 1456 1211  940\n",
            "  999  937  928 1290 1416 1130 1162 1184  958 1342 1010 1172 1487 1131\n",
            "  997 1322 1003 1448 1074 1082]\n"
          ]
        }
      ]
    },
    {
      "cell_type": "code",
      "metadata": {
        "colab": {
          "base_uri": "https://localhost:8080/"
        },
        "id": "jZfYjPLOftPY",
        "outputId": "f53b6f25-5a31-4f4c-bc0b-20df854f75a1"
      },
      "source": [
        "print(Y_test)"
      ],
      "execution_count": null,
      "outputs": [
        {
          "output_type": "stream",
          "name": "stdout",
          "text": [
            "[[1224]\n",
            " [ 740]\n",
            " [4090]\n",
            " [1078]\n",
            " [2314]\n",
            " [2971]\n",
            " [1088]\n",
            " [ 641]\n",
            " [4041]\n",
            " [ 835]\n",
            " [3255]\n",
            " [2547]\n",
            " [1111]\n",
            " [2638]\n",
            " [ 451]\n",
            " [ 264]\n",
            " [1003]\n",
            " [ 543]\n",
            " [1003]\n",
            " [2931]\n",
            " [ 926]\n",
            " [ 941]\n",
            " [ 565]\n",
            " [1467]\n",
            " [ 640]\n",
            " [ 858]\n",
            " [1455]\n",
            " [ 302]\n",
            " [1111]\n",
            " [ 783]\n",
            " [1586]\n",
            " [4138]\n",
            " [2175]\n",
            " [1862]\n",
            " [2820]\n",
            " [1182]\n",
            " [1064]\n",
            " [ 551]\n",
            " [1281]\n",
            " [2537]\n",
            " [2550]\n",
            " [ 955]\n",
            " [2591]\n",
            " [ 626]\n",
            " [1060]\n",
            " [ 736]\n",
            " [1443]\n",
            " [1600]\n",
            " [2361]\n",
            " [1053]\n",
            " [ 790]\n",
            " [3327]\n",
            " [ 936]\n",
            " [1051]\n",
            " [ 265]\n",
            " [1446]\n",
            " [ 805]\n",
            " [3027]\n",
            " [1175]\n",
            " [ 723]\n",
            " [ 553]\n",
            " [3591]\n",
            " [2632]\n",
            " [1382]\n",
            " [2634]\n",
            " [1099]\n",
            " [1812]\n",
            " [ 368]\n",
            " [ 828]\n",
            " [1093]\n",
            " [ 739]\n",
            " [2699]\n",
            " [1441]\n",
            " [1534]\n",
            " [1349]\n",
            " [1859]\n",
            " [ 580]\n",
            " [ 808]\n",
            " [1368]\n",
            " [ 347]\n",
            " [2522]\n",
            " [1093]\n",
            " [1061]\n",
            " [3150]\n",
            " [ 943]\n",
            " [1532]\n",
            " [1283]\n",
            " [1615]\n",
            " [2860]\n",
            " [1306]\n",
            " [2663]\n",
            " [1069]\n",
            " [1225]\n",
            " [ 549]\n",
            " [2906]\n",
            " [1477]\n",
            " [ 847]\n",
            " [1372]\n",
            " [2507]\n",
            " [2917]\n",
            " [ 878]\n",
            " [ 568]\n",
            " [1240]\n",
            " [ 657]\n",
            " [2782]\n",
            " [1535]\n",
            " [1253]\n",
            " [ 914]\n",
            " [ 567]\n",
            " [ 663]\n",
            " [ 755]\n",
            " [1397]\n",
            " [ 758]\n",
            " [1082]\n",
            " [1504]\n",
            " [ 581]\n",
            " [ 484]\n",
            " [ 784]\n",
            " [ 695]\n",
            " [1198]\n",
            " [ 688]\n",
            " [3047]\n",
            " [ 440]\n",
            " [ 590]\n",
            " [2427]\n",
            " [ 752]\n",
            " [1743]\n",
            " [1535]\n",
            " [ 414]\n",
            " [4226]\n",
            " [1438]\n",
            " [1460]\n",
            " [3279]\n",
            " [1047]\n",
            " [ 945]\n",
            " [1602]\n",
            " [ 686]\n",
            " [3031]\n",
            " [3723]\n",
            " [2149]\n",
            " [1324]\n",
            " [1732]\n",
            " [ 905]\n",
            " [1477]\n",
            " [1555]\n",
            " [1070]\n",
            " [ 839]\n",
            " [2440]\n",
            " [ 748]\n",
            " [1061]\n",
            " [ 907]\n",
            " [1493]\n",
            " [3239]\n",
            " [2718]\n",
            " [2514]\n",
            " [ 196]\n",
            " [ 829]\n",
            " [2711]\n",
            " [2763]\n",
            " [1096]\n",
            " [1539]\n",
            " [3778]\n",
            " [2390]\n",
            " [3046]\n",
            " [ 849]\n",
            " [1129]\n",
            " [2623]\n",
            " [2895]\n",
            " [2414]\n",
            " [3565]\n",
            " [3086]\n",
            " [1080]\n",
            " [ 879]\n",
            " [1055]\n",
            " [1213]\n",
            " [2259]\n",
            " [ 890]\n",
            " [1497]\n",
            " [ 185]\n",
            " [1613]\n",
            " [3520]\n",
            " [1698]\n",
            " [1012]\n",
            " [3206]\n",
            " [1291]\n",
            " [1227]\n",
            " [1003]\n",
            " [1383]\n",
            " [ 751]\n",
            " [1876]\n",
            " [3134]\n",
            " [1957]\n",
            " [ 941]\n",
            " [ 513]\n",
            " [2714]\n",
            " [2384]\n",
            " [1353]\n",
            " [2755]\n",
            " [ 708]\n",
            " [ 888]\n",
            " [ 766]\n",
            " [1000]\n",
            " [ 179]\n",
            " [4872]\n",
            " [ 806]\n",
            " [ 357]\n",
            " [2855]\n",
            " [3043]\n",
            " [1666]\n",
            " [1380]\n",
            " [ 999]\n",
            " [1028]\n",
            " [1247]\n",
            " [1331]\n",
            " [2868]\n",
            " [3485]\n",
            " [1064]\n",
            " [ 539]\n",
            " [1167]\n",
            " [ 855]\n",
            " [ 994]\n",
            " [1218]\n",
            " [1902]\n",
            " [2551]\n",
            " [ 114]\n",
            " [ 748]\n",
            " [2544]\n",
            " [2042]\n",
            " [4120]\n",
            " [1480]\n",
            " [ 606]\n",
            " [3495]\n",
            " [ 761]\n",
            " [1572]\n",
            " [  92]\n",
            " [ 902]\n",
            " [ 760]\n",
            " [1334]\n",
            " [ 956]\n",
            " [ 729]\n",
            " [1441]\n",
            " [1295]\n",
            " [1051]\n",
            " [ 380]\n",
            " [1936]\n",
            " [3707]\n",
            " [ 986]\n",
            " [1624]\n",
            " [ 776]\n",
            " [ 298]\n",
            " [ 890]\n",
            " [3449]\n",
            " [2800]\n",
            " [ 978]\n",
            " [2896]\n",
            " [ 913]\n",
            " [2339]\n",
            " [2222]\n",
            " [3470]\n",
            " [ 693]\n",
            " [1311]\n",
            " [1598]\n",
            " [ 944]\n",
            " [ 664]\n",
            " [ 778]\n",
            " [3663]\n",
            " [1133]\n",
            " [1268]\n",
            " [1434]\n",
            " [3062]\n",
            " [ 689]\n",
            " [1959]\n",
            " [ 905]\n",
            " [1225]\n",
            " [2304]\n",
            " [2225]\n",
            " [1307]\n",
            " [ 903]\n",
            " [1050]\n",
            " [ 458]\n",
            " [1057]\n",
            " [1288]\n",
            " [ 586]\n",
            " [2859]\n",
            " [3434]\n",
            " [ 714]\n",
            " [ 933]\n",
            " [ 345]\n",
            " [ 398]\n",
            " [ 927]\n",
            " [3515]\n",
            " [2758]\n",
            " [1192]\n",
            " [ 848]\n",
            " [1398]\n",
            " [ 722]\n",
            " [ 913]\n",
            " [1121]\n",
            " [3192]\n",
            " [1116]\n",
            " [1167]\n",
            " [3018]\n",
            " [ 681]\n",
            " [ 906]\n",
            " [1059]\n",
            " [1114]\n",
            " [1235]\n",
            " [ 984]\n",
            " [1348]\n",
            " [2648]\n",
            " [3339]\n",
            " [2617]\n",
            " [ 972]\n",
            " [ 573]\n",
            " [1263]\n",
            " [3610]\n",
            " [2754]\n",
            " [1637]\n",
            " [ 789]\n",
            " [2886]\n",
            " [3103]\n",
            " [2723]\n",
            " [1109]\n",
            " [ 553]\n",
            " [1002]\n",
            " [2716]\n",
            " [1485]\n",
            " [3324]\n",
            " [ 564]\n",
            " [ 805]\n",
            " [1591]\n",
            " [ 684]\n",
            " [ 786]\n",
            " [1068]\n",
            " [1207]\n",
            " [ 815]\n",
            " [1001]\n",
            " [ 850]\n",
            " [1158]\n",
            " [1128]\n",
            " [ 925]\n",
            " [1362]\n",
            " [ 723]\n",
            " [ 708]\n",
            " [ 385]\n",
            " [3275]\n",
            " [1357]\n",
            " [1013]\n",
            " [2752]\n",
            " [3856]\n",
            " [1101]\n",
            " [1316]\n",
            " [ 433]\n",
            " [1063]\n",
            " [ 356]\n",
            " [ 916]\n",
            " [3053]\n",
            " [ 798]\n",
            " [1245]\n",
            " [1047]\n",
            " [2767]\n",
            " [ 918]\n",
            " [1104]\n",
            " [3154]\n",
            " [2233]\n",
            " [2848]\n",
            " [ 856]\n",
            " [1353]\n",
            " [1557]\n",
            " [2322]\n",
            " [1873]\n",
            " [2535]\n",
            " [ 492]\n",
            " [1332]\n",
            " [1374]\n",
            " [1395]\n",
            " [1250]\n",
            " [4257]\n",
            " [ 859]\n",
            " [ 422]\n",
            " [2206]\n",
            " [1370]\n",
            " [ 511]\n",
            " [1346]\n",
            " [1344]\n",
            " [1625]\n",
            " [1447]\n",
            " [ 835]\n",
            " [1536]\n",
            " [ 777]\n",
            " [1023]\n",
            " [ 603]\n",
            " [3171]\n",
            " [1402]\n",
            " [1881]\n",
            " [1072]\n",
            " [ 861]\n",
            " [ 502]\n",
            " [3420]\n",
            " [ 870]\n",
            " [1523]\n",
            " [ 871]\n",
            " [3007]\n",
            " [ 615]\n",
            " [1504]\n",
            " [1465]\n",
            " [2262]\n",
            " [3938]\n",
            " [ 248]\n",
            " [ 817]\n",
            " [ 654]\n",
            " [ 651]\n",
            " [ 678]\n",
            " [ 554]\n",
            " [1404]\n",
            " [ 962]\n",
            " [1359]\n",
            " [1544]\n",
            " [3282]\n",
            " [1520]\n",
            " [ 706]\n",
            " [1223]\n",
            " [1129]\n",
            " [1232]\n",
            " [1144]\n",
            " [1598]\n",
            " [ 791]\n",
            " [1553]\n",
            " [ 692]\n",
            " [1227]\n",
            " [ 955]\n",
            " [ 650]\n",
            " [ 776]\n",
            " [ 765]\n",
            " [1024]\n",
            " [ 945]\n",
            " [1339]\n",
            " [1003]\n",
            " [ 989]\n",
            " [1392]\n",
            " [ 904]\n",
            " [2442]\n",
            " [1030]\n",
            " [ 843]\n",
            " [2701]\n",
            " [1337]\n",
            " [ 887]\n",
            " [ 262]\n",
            " [2277]\n",
            " [ 738]\n",
            " [1495]\n",
            " [ 318]\n",
            " [1583]\n",
            " [2377]\n",
            " [ 709]\n",
            " [1449]\n",
            " [1573]\n",
            " [1898]\n",
            " [1126]\n",
            " [ 822]\n",
            " [1532]\n",
            " [1744]\n",
            " [1275]\n",
            " [3129]\n",
            " [2994]\n",
            " [1313]\n",
            " [ 510]\n",
            " [1449]\n",
            " [ 954]\n",
            " [1274]\n",
            " [ 547]\n",
            " [ 591]\n",
            " [1174]\n",
            " [ 938]\n",
            " [ 884]\n",
            " [ 775]\n",
            " [2359]\n",
            " [2708]\n",
            " [1244]\n",
            " [2886]\n",
            " [1239]\n",
            " [ 503]\n",
            " [ 916]\n",
            " [ 490]\n",
            " [ 992]\n",
            " [3502]\n",
            " [ 995]\n",
            " [2178]\n",
            " [2991]\n",
            " [ 483]\n",
            " [1119]\n",
            " [ 817]\n",
            " [1287]\n",
            " [ 973]\n",
            " [ 628]\n",
            " [1461]\n",
            " [1877]\n",
            " [ 330]\n",
            " [6331]\n",
            " [1216]\n",
            " [ 931]\n",
            " [ 801]\n",
            " [3192]\n",
            " [1022]\n",
            " [1372]\n",
            " [1279]\n",
            " [1024]\n",
            " [ 792]\n",
            " [1974]\n",
            " [ 752]\n",
            " [1867]\n",
            " [ 536]\n",
            " [1190]\n",
            " [1120]\n",
            " [1156]\n",
            " [1233]\n",
            " [ 508]\n",
            " [2716]\n",
            " [ 538]\n",
            " [ 595]\n",
            " [ 839]\n",
            " [2651]\n",
            " [1533]\n",
            " [ 802]\n",
            " [1113]\n",
            " [2845]\n",
            " [1522]\n",
            " [ 859]\n",
            " [ 684]\n",
            " [2952]\n",
            " [ 944]\n",
            " [1085]\n",
            " [2673]\n",
            " [1405]\n",
            " [4850]\n",
            " [ 562]\n",
            " [1025]\n",
            " [2339]\n",
            " [1285]\n",
            " [1036]\n",
            " [1208]\n",
            " [1544]\n",
            " [1271]\n",
            " [ 678]\n",
            " [1116]\n",
            " [ 607]\n",
            " [ 696]\n",
            " [3011]\n",
            " [3872]\n",
            " [ 744]\n",
            " [1061]\n",
            " [1286]\n",
            " [2888]\n",
            " [1427]\n",
            " [2352]\n",
            " [ 598]\n",
            " [1180]\n",
            " [3535]\n",
            " [ 882]\n",
            " [2451]\n",
            " [1737]\n",
            " [ 743]\n",
            " [2678]\n",
            " [1302]\n",
            " [3050]\n",
            " [2612]\n",
            " [ 756]\n",
            " [ 944]\n",
            " [1157]\n",
            " [1163]\n",
            " [1218]\n",
            " [2382]\n",
            " [ 571]\n",
            " [3185]\n",
            " [1314]\n",
            " [ 842]\n",
            " [ 701]\n",
            " [ 977]\n",
            " [ 946]\n",
            " [3293]\n",
            " [1031]\n",
            " [1068]\n",
            " [4330]\n",
            " [ 656]\n",
            " [1185]\n",
            " [1430]\n",
            " [ 576]\n",
            " [2741]\n",
            " [1482]\n",
            " [1516]\n",
            " [1061]\n",
            " [2885]\n",
            " [1676]\n",
            " [ 707]\n",
            " [2324]\n",
            " [6129]\n",
            " [ 532]\n",
            " [ 909]\n",
            " [1160]\n",
            " [1402]\n",
            " [ 871]\n",
            " [ 609]\n",
            " [1328]\n",
            " [ 293]\n",
            " [2937]\n",
            " [3821]\n",
            " [1120]\n",
            " [1515]\n",
            " [1332]\n",
            " [ 803]\n",
            " [1533]\n",
            " [2762]\n",
            " [1317]\n",
            " [1416]\n",
            " [1278]\n",
            " [ 869]\n",
            " [1178]\n",
            " [2460]\n",
            " [ 383]\n",
            " [1371]\n",
            " [ 922]\n",
            " [3814]\n",
            " [1030]\n",
            " [1173]\n",
            " [ 904]\n",
            " [1211]\n",
            " [ 632]\n",
            " [1572]\n",
            " [ 119]\n",
            " [ 663]\n",
            " [1542]\n",
            " [ 733]\n",
            " [2213]\n",
            " [2831]\n",
            " [2613]\n",
            " [1697]\n",
            " [1450]\n",
            " [ 770]\n",
            " [1083]\n",
            " [1347]\n",
            " [2403]\n",
            " [ 712]\n",
            " [1504]\n",
            " [1547]\n",
            " [2884]\n",
            " [ 861]\n",
            " [ 646]\n",
            " [1118]\n",
            " [1473]\n",
            " [1155]\n",
            " [1238]\n",
            " [2793]\n",
            " [2392]\n",
            " [2793]\n",
            " [ 822]\n",
            " [1451]\n",
            " [2127]\n",
            " [1147]\n",
            " [1308]\n",
            " [1189]\n",
            " [1446]\n",
            " [ 480]\n",
            " [1240]\n",
            " [ 809]\n",
            " [1226]\n",
            " [1420]\n",
            " [2544]\n",
            " [1061]\n",
            " [ 941]\n",
            " [1327]\n",
            " [3117]\n",
            " [1475]\n",
            " [1001]\n",
            " [2287]\n",
            " [ 234]\n",
            " [1156]\n",
            " [3681]\n",
            " [1149]\n",
            " [ 314]\n",
            " [1172]\n",
            " [1403]\n",
            " [ 993]\n",
            " [2810]\n",
            " [2609]\n",
            " [2960]\n",
            " [2937]\n",
            " [2881]\n",
            " [1353]\n",
            " [2566]\n",
            " [1585]\n",
            " [1201]\n",
            " [1180]\n",
            " [3942]\n",
            " [1371]\n",
            " [3124]\n",
            " [ 798]\n",
            " [ 980]\n",
            " [ 400]\n",
            " [ 662]\n",
            " [3287]\n",
            " [ 950]\n",
            " [ 842]\n",
            " [1222]\n",
            " [ 802]\n",
            " [ 952]\n",
            " [ 918]\n",
            " [ 624]\n",
            " [ 147]\n",
            " [ 890]\n",
            " [3464]\n",
            " [1493]\n",
            " [3176]\n",
            " [1505]\n",
            " [1660]\n",
            " [2466]\n",
            " [1494]\n",
            " [ 734]\n",
            " [ 224]\n",
            " [ 682]\n",
            " [1501]\n",
            " [2761]\n",
            " [ 739]\n",
            " [1211]\n",
            " [ 691]\n",
            " [2712]\n",
            " [1749]\n",
            " [2550]\n",
            " [3080]\n",
            " [2691]\n",
            " [ 895]\n",
            " [1692]\n",
            " [2626]\n",
            " [ 860]\n",
            " [ 515]\n",
            " [ 454]\n",
            " [1130]\n",
            " [ 802]\n",
            " [1530]\n",
            " [2936]\n",
            " [2612]\n",
            " [1065]\n",
            " [ 160]\n",
            " [ 678]\n",
            " [2933]\n",
            " [ 979]\n",
            " [ 185]\n",
            " [1529]\n",
            " [ 790]\n",
            " [2610]\n",
            " [2451]\n",
            " [2792]\n",
            " [1197]\n",
            " [2791]\n",
            " [ 684]\n",
            " [1924]\n",
            " [ 346]\n",
            " [2849]\n",
            " [ 835]\n",
            " [1168]\n",
            " [1488]\n",
            " [2319]\n",
            " [1583]\n",
            " [1364]\n",
            " [1811]\n",
            " [ 557]\n",
            " [1909]\n",
            " [ 322]\n",
            " [3837]\n",
            " [3616]\n",
            " [ 997]\n",
            " [3276]\n",
            " [ 523]\n",
            " [ 866]\n",
            " [1015]\n",
            " [1849]\n",
            " [1110]\n",
            " [1157]\n",
            " [ 887]\n",
            " [2582]\n",
            " [ 306]\n",
            " [ 682]\n",
            " [1016]\n",
            " [1290]\n",
            " [ 896]\n",
            " [ 437]\n",
            " [3119]\n",
            " [ 996]\n",
            " [1339]\n",
            " [ 823]\n",
            " [ 850]\n",
            " [ 807]\n",
            " [1243]\n",
            " [1633]\n",
            " [ 804]\n",
            " [1967]\n",
            " [2358]\n",
            " [1272]\n",
            " [ 682]\n",
            " [ 742]\n",
            " [ 693]\n",
            " [ 785]\n",
            " [1202]\n",
            " [3440]\n",
            " [1010]\n",
            " [1205]\n",
            " [1169]\n",
            " [ 650]\n",
            " [2102]\n",
            " [ 832]\n",
            " [1269]\n",
            " [2329]\n",
            " [1204]\n",
            " [1053]\n",
            " [1705]\n",
            " [ 428]\n",
            " [2920]\n",
            " [ 775]\n",
            " [1286]]\n"
          ]
        }
      ]
    },
    {
      "cell_type": "code",
      "metadata": {
        "id": "azc7vPf3f1Ux"
      },
      "source": [
        "y_pred = y_pred.reshape(-1,1)\n",
        "Y_test = Y_test.reshape(-1,1)"
      ],
      "execution_count": null,
      "outputs": []
    },
    {
      "cell_type": "code",
      "metadata": {
        "id": "J-fD8Ysbf5ni"
      },
      "source": [
        "df = np.concatenate((Y_test,y_pred),axis=1)\n",
        "dataframe = pd.DataFrame(df,columns=['Actual Rainfall','Predicted Rainfall'])"
      ],
      "execution_count": null,
      "outputs": []
    },
    {
      "cell_type": "code",
      "metadata": {
        "colab": {
          "base_uri": "https://localhost:8080/"
        },
        "id": "EaxM5n3CmtTh",
        "outputId": "802c3a93-0778-4007-85f4-f4fc5cc9e4e6"
      },
      "source": [
        "print(dataframe)"
      ],
      "execution_count": null,
      "outputs": [
        {
          "output_type": "stream",
          "name": "stdout",
          "text": [
            "     Actual Rainfall  Predicted Rainfall\n",
            "0               1224                1025\n",
            "1                740                 954\n",
            "2               4090                1414\n",
            "3               1078                1029\n",
            "4               2314                1452\n",
            "..               ...                 ...\n",
            "813             1705                1322\n",
            "814              428                1003\n",
            "815             2920                1448\n",
            "816              775                1074\n",
            "817             1286                1082\n",
            "\n",
            "[818 rows x 2 columns]\n"
          ]
        }
      ]
    },
    {
      "cell_type": "markdown",
      "metadata": {
        "id": "jlU4WaaImzNb"
      },
      "source": [
        "# Calculating Accuracy"
      ]
    },
    {
      "cell_type": "code",
      "metadata": {
        "colab": {
          "base_uri": "https://localhost:8080/"
        },
        "id": "acf0n9e4mx-a",
        "outputId": "0e98e53a-4d3f-418d-b73a-1b06ea8a3bc3"
      },
      "source": [
        "from sklearn.metrics import accuracy_score\n",
        "accuracy_score(Y_test,y_pred)"
      ],
      "execution_count": null,
      "outputs": [
        {
          "output_type": "execute_result",
          "data": {
            "text/plain": [
              "0.003667481662591687"
            ]
          },
          "metadata": {},
          "execution_count": 30
        }
      ]
    }
  ]
}
