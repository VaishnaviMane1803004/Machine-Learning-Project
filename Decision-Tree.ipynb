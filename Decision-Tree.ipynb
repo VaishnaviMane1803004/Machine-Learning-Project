{
  "nbformat": 4,
  "nbformat_minor": 0,
  "metadata": {
    "colab": {
      "name": "ML-ISE-DTR.ipynb",
      "provenance": []
    },
    "kernelspec": {
      "name": "python3",
      "display_name": "Python 3"
    },
    "language_info": {
      "name": "python"
    }
  },
  "cells": [
    {
      "cell_type": "code",
      "metadata": {
        "id": "0NkjP1-kEU6b"
      },
      "source": [
        "import numpy as np\n",
        "import matplotlib.pyplot as plt\n",
        "import pandas as pd"
      ],
      "execution_count": 1,
      "outputs": []
    },
    {
      "cell_type": "code",
      "metadata": {
        "colab": {
          "resources": {
            "http://localhost:8080/nbextensions/google.colab/files.js": {
              "data": "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",
              "ok": true,
              "headers": [
                [
                  "content-type",
                  "application/javascript"
                ]
              ],
              "status": 200,
              "status_text": ""
            }
          },
          "base_uri": "https://localhost:8080/",
          "height": 72
        },
        "id": "Zjp3dk_JEmie",
        "outputId": "f035c8e0-6a1b-48aa-d49f-66a816e5ad76"
      },
      "source": [
        "from google.colab import files\n",
        "uploaded = files.upload()"
      ],
      "execution_count": 2,
      "outputs": [
        {
          "output_type": "display_data",
          "data": {
            "text/html": [
              "\n",
              "     <input type=\"file\" id=\"files-2c3fc062-06c9-4359-b002-775af9ffa45b\" name=\"files[]\" multiple disabled\n",
              "        style=\"border:none\" />\n",
              "     <output id=\"result-2c3fc062-06c9-4359-b002-775af9ffa45b\">\n",
              "      Upload widget is only available when the cell has been executed in the\n",
              "      current browser session. Please rerun this cell to enable.\n",
              "      </output>\n",
              "      <script src=\"/nbextensions/google.colab/files.js\"></script> "
            ],
            "text/plain": [
              "<IPython.core.display.HTML object>"
            ]
          },
          "metadata": {}
        },
        {
          "output_type": "stream",
          "name": "stdout",
          "text": [
            "Saving rainfall in india 1901-2015.csv to rainfall in india 1901-2015.csv\n"
          ]
        }
      ]
    },
    {
      "cell_type": "markdown",
      "metadata": {
        "id": "4ww3sge3Ncyx"
      },
      "source": [
        "# Exploratory Data Analysis"
      ]
    },
    {
      "cell_type": "code",
      "metadata": {
        "id": "9_U0Htg_E6Gp"
      },
      "source": [
        "dataset = pd.read_csv('rainfall in india 1901-2015.csv')"
      ],
      "execution_count": 3,
      "outputs": []
    },
    {
      "cell_type": "code",
      "metadata": {
        "id": "l1-uhEyeF3Ii"
      },
      "source": [
        "dataset.dropna(how='any', inplace=True)"
      ],
      "execution_count": 4,
      "outputs": []
    },
    {
      "cell_type": "code",
      "metadata": {
        "id": "i5xRLHI0IKXk"
      },
      "source": [
        "X = dataset.iloc[:,[0,1,-1,-2,-3,-4]].values\n",
        "Y = dataset.iloc[:,-5].values"
      ],
      "execution_count": 5,
      "outputs": []
    },
    {
      "cell_type": "code",
      "metadata": {
        "colab": {
          "base_uri": "https://localhost:8080/"
        },
        "id": "7uSlH3tpJ4TC",
        "outputId": "bcef419f-4f01-45f2-d1e1-559c3ed2a30c"
      },
      "source": [
        "print(X)"
      ],
      "execution_count": 6,
      "outputs": [
        {
          "output_type": "stream",
          "name": "stdout",
          "text": [
            "[['ANDAMAN & NICOBAR ISLANDS' 1901 980.3 1696.3 560.3 136.3]\n",
            " ['ANDAMAN & NICOBAR ISLANDS' 1902 716.7 2185.9 458.3 159.8]\n",
            " ['ANDAMAN & NICOBAR ISLANDS' 1903 690.6 1874.0 236.1 156.7]\n",
            " ...\n",
            " ['LAKSHADWEEP' 2013 177.6 1057.0 131.1 60.6]\n",
            " ['LAKSHADWEEP' 2014 290.5 958.5 76.7 69.3]\n",
            " ['LAKSHADWEEP' 2015 555.4 860.9 223.9 2.7]]\n"
          ]
        }
      ]
    },
    {
      "cell_type": "code",
      "metadata": {
        "id": "i-ig0tVwLUaJ"
      },
      "source": [
        "Y = Y.reshape(-1,1)"
      ],
      "execution_count": 7,
      "outputs": []
    },
    {
      "cell_type": "code",
      "metadata": {
        "colab": {
          "base_uri": "https://localhost:8080/"
        },
        "id": "Bnz2fuiSJ8Di",
        "outputId": "ef589844-b187-4668-a632-800a9dce30f6"
      },
      "source": [
        "print(Y)"
      ],
      "execution_count": 8,
      "outputs": [
        {
          "output_type": "stream",
          "name": "stdout",
          "text": [
            "[[3373.2]\n",
            " [3520.7]\n",
            " [2957.4]\n",
            " ...\n",
            " [1426.3]\n",
            " [1395. ]\n",
            " [1642.9]]\n"
          ]
        }
      ]
    },
    {
      "cell_type": "markdown",
      "metadata": {
        "id": "ytBOy7shNOTx"
      },
      "source": [
        "# Dealing with invalid dataset"
      ]
    },
    {
      "cell_type": "code",
      "metadata": {
        "id": "XbP381yOKvaa"
      },
      "source": [
        "from sklearn.impute import SimpleImputer\n",
        "imputer = SimpleImputer(missing_values=np.nan,strategy='most_frequent')\n",
        "X = imputer.fit_transform(X)\n",
        "Y = imputer.fit_transform(Y)"
      ],
      "execution_count": 9,
      "outputs": []
    },
    {
      "cell_type": "code",
      "metadata": {
        "colab": {
          "base_uri": "https://localhost:8080/"
        },
        "id": "WbFCl_flJ9X6",
        "outputId": "4c17515b-5eab-4bf8-d8ae-87eb0f738a74"
      },
      "source": [
        "print(X)"
      ],
      "execution_count": 10,
      "outputs": [
        {
          "output_type": "stream",
          "name": "stdout",
          "text": [
            "[['ANDAMAN & NICOBAR ISLANDS' 1901 980.3 1696.3 560.3 136.3]\n",
            " ['ANDAMAN & NICOBAR ISLANDS' 1902 716.7 2185.9 458.3 159.8]\n",
            " ['ANDAMAN & NICOBAR ISLANDS' 1903 690.6 1874.0 236.1 156.7]\n",
            " ...\n",
            " ['LAKSHADWEEP' 2013 177.6 1057.0 131.1 60.6]\n",
            " ['LAKSHADWEEP' 2014 290.5 958.5 76.7 69.3]\n",
            " ['LAKSHADWEEP' 2015 555.4 860.9 223.9 2.7]]\n"
          ]
        }
      ]
    },
    {
      "cell_type": "code",
      "metadata": {
        "colab": {
          "base_uri": "https://localhost:8080/"
        },
        "id": "BHW43MMuM1P7",
        "outputId": "ca3e81db-9104-4e87-e462-8ccca19342c7"
      },
      "source": [
        "print(Y)"
      ],
      "execution_count": 11,
      "outputs": [
        {
          "output_type": "stream",
          "name": "stdout",
          "text": [
            "[[3373.2]\n",
            " [3520.7]\n",
            " [2957.4]\n",
            " ...\n",
            " [1426.3]\n",
            " [1395. ]\n",
            " [1642.9]]\n"
          ]
        }
      ]
    },
    {
      "cell_type": "markdown",
      "metadata": {
        "id": "RsAb7N3SNAfk"
      },
      "source": [
        "# Encoding dataset"
      ]
    },
    {
      "cell_type": "code",
      "metadata": {
        "id": "Unm2WZJkNGWB"
      },
      "source": [
        "from sklearn.preprocessing import LabelEncoder\n",
        "le1 = LabelEncoder()\n",
        "X[:,0] = le1.fit_transform(X[:,0])"
      ],
      "execution_count": 12,
      "outputs": []
    },
    {
      "cell_type": "code",
      "metadata": {
        "colab": {
          "base_uri": "https://localhost:8080/"
        },
        "id": "LhAMq1wySHt6",
        "outputId": "400c28e2-e978-4d41-b809-59d895912714"
      },
      "source": [
        "print(X)"
      ],
      "execution_count": 13,
      "outputs": [
        {
          "output_type": "stream",
          "name": "stdout",
          "text": [
            "[[0 1901 980.3 1696.3 560.3 136.3]\n",
            " [0 1902 716.7 2185.9 458.3 159.8]\n",
            " [0 1903 690.6 1874.0 236.1 156.7]\n",
            " ...\n",
            " [18 2013 177.6 1057.0 131.1 60.6]\n",
            " [18 2014 290.5 958.5 76.7 69.3]\n",
            " [18 2015 555.4 860.9 223.9 2.7]]\n"
          ]
        }
      ]
    },
    {
      "cell_type": "code",
      "metadata": {
        "colab": {
          "base_uri": "https://localhost:8080/"
        },
        "id": "eQe-0IDxWmNQ",
        "outputId": "34b9e2a2-bb46-4e56-b38f-e6467611e164"
      },
      "source": [
        "\n",
        "print(Y)"
      ],
      "execution_count": 14,
      "outputs": [
        {
          "output_type": "stream",
          "name": "stdout",
          "text": [
            "[[3373.2]\n",
            " [3520.7]\n",
            " [2957.4]\n",
            " ...\n",
            " [1426.3]\n",
            " [1395. ]\n",
            " [1642.9]]\n"
          ]
        }
      ]
    },
    {
      "cell_type": "markdown",
      "metadata": {
        "id": "uIJJH9v5SftF"
      },
      "source": [
        "# Feature Scaling"
      ]
    },
    {
      "cell_type": "code",
      "metadata": {
        "id": "z0bXI1MDSkDx"
      },
      "source": [
        "from sklearn.preprocessing import StandardScaler\n",
        "sc = StandardScaler()\n",
        "X = sc.fit_transform(X)"
      ],
      "execution_count": 15,
      "outputs": []
    },
    {
      "cell_type": "code",
      "metadata": {
        "colab": {
          "base_uri": "https://localhost:8080/"
        },
        "id": "hURQKih4TmZp",
        "outputId": "50dcef70-d031-475c-8c9b-03126278b1ec"
      },
      "source": [
        "print(X)"
      ],
      "execution_count": 16,
      "outputs": [
        {
          "output_type": "stream",
          "name": "stdout",
          "text": [
            "[[-1.70794392 -1.72941497  4.96963041  0.89812848  2.02437445  1.6208145 ]\n",
            " [-1.70794392 -1.69924441  3.38543641  1.59172697  1.51511613  2.01825062]\n",
            " [-1.70794392 -1.66907385  3.22857957  1.1498696   0.40573183  1.96582288]\n",
            " ...\n",
            " [ 0.03462896  1.64968797  0.1455313  -0.00754455 -0.11850467  0.34056283]\n",
            " [ 0.03462896  1.67985853  0.82404232 -0.14708591 -0.39010911  0.48769876]\n",
            " [ 0.03462896  1.71002909  2.41604911 -0.28535228  0.34482054 -0.63865212]]\n"
          ]
        }
      ]
    },
    {
      "cell_type": "code",
      "metadata": {
        "colab": {
          "base_uri": "https://localhost:8080/"
        },
        "id": "HLG4fYecUGhr",
        "outputId": "0391769c-44b5-411a-c5bc-52df86dfb567"
      },
      "source": [
        "print(Y)"
      ],
      "execution_count": 17,
      "outputs": [
        {
          "output_type": "stream",
          "name": "stdout",
          "text": [
            "[[3373.2]\n",
            " [3520.7]\n",
            " [2957.4]\n",
            " ...\n",
            " [1426.3]\n",
            " [1395. ]\n",
            " [1642.9]]\n"
          ]
        }
      ]
    },
    {
      "cell_type": "markdown",
      "metadata": {
        "id": "ORy8PyMUTsV8"
      },
      "source": [
        "# Splitting Dataset into Training and Testing data"
      ]
    },
    {
      "cell_type": "code",
      "metadata": {
        "id": "78s6s3TfTxDi"
      },
      "source": [
        "from sklearn.model_selection import train_test_split\n",
        "X_train,X_test,Y_train,Y_test = train_test_split(X,Y,test_size=0.2,random_state=0)"
      ],
      "execution_count": 18,
      "outputs": []
    },
    {
      "cell_type": "code",
      "metadata": {
        "colab": {
          "base_uri": "https://localhost:8080/"
        },
        "id": "YuyPxbYgT16Z",
        "outputId": "d2bc98ed-1aaa-4f30-e0e5-df8a458b1b1a"
      },
      "source": [
        "print(X_train)"
      ],
      "execution_count": 19,
      "outputs": [
        {
          "output_type": "stream",
          "name": "stdout",
          "text": [
            "[[ 0.22824817 -0.73378643 -0.34306874 -0.42659363 -0.70714738 -0.58284194]\n",
            " [-0.64303827  0.26184212 -0.78899892 -0.26707732 -0.55986188 -0.68431499]\n",
            " [ 1.29315382 -0.49242193 -0.54499939  0.41051287 -0.24432143  2.54252805]\n",
            " ...\n",
            " [-0.44941906  0.62388886 -0.49692066 -0.95146749  0.59695334  4.1390374 ]\n",
            " [-0.06218064  1.71002909 -0.20784733  1.19902782 -0.51492732 -0.63865212]\n",
            " [ 0.22824817 -1.45787991 -0.29078313 -0.05245278 -0.75308048 -0.68431499]]\n"
          ]
        }
      ]
    },
    {
      "cell_type": "code",
      "metadata": {
        "colab": {
          "base_uri": "https://localhost:8080/"
        },
        "id": "PiLxWrU_T82h",
        "outputId": "71790af4-9063-4161-b49a-e3930c2aa032"
      },
      "source": [
        "print(Y_train)"
      ],
      "execution_count": 20,
      "outputs": [
        {
          "output_type": "stream",
          "name": "stdout",
          "text": [
            "[[ 876.6]\n",
            " [ 938.7]\n",
            " [1711.4]\n",
            " ...\n",
            " [1021. ]\n",
            " [2082. ]\n",
            " [1134.4]]\n"
          ]
        }
      ]
    },
    {
      "cell_type": "markdown",
      "metadata": {
        "id": "m4BhwQMbURME"
      },
      "source": [
        "# Training the model"
      ]
    },
    {
      "cell_type": "code",
      "metadata": {
        "colab": {
          "base_uri": "https://localhost:8080/"
        },
        "id": "-LwhziehaUsY",
        "outputId": "d32b23a7-38a0-4c23-be67-2515f1e10dab"
      },
      "source": [
        "from sklearn.tree import DecisionTreeRegressor\n",
        "regressor = DecisionTreeRegressor()\n",
        "regressor.fit(X_train, Y_train)"
      ],
      "execution_count": 21,
      "outputs": [
        {
          "output_type": "execute_result",
          "data": {
            "text/plain": [
              "DecisionTreeRegressor(ccp_alpha=0.0, criterion='mse', max_depth=None,\n",
              "                      max_features=None, max_leaf_nodes=None,\n",
              "                      min_impurity_decrease=0.0, min_impurity_split=None,\n",
              "                      min_samples_leaf=1, min_samples_split=2,\n",
              "                      min_weight_fraction_leaf=0.0, presort='deprecated',\n",
              "                      random_state=None, splitter='best')"
            ]
          },
          "metadata": {},
          "execution_count": 21
        }
      ]
    },
    {
      "cell_type": "code",
      "metadata": {
        "colab": {
          "base_uri": "https://localhost:8080/"
        },
        "id": "Krfb4QubfDY5",
        "outputId": "2aa34f80-d46f-4424-da5c-c88b6f81fb0d"
      },
      "source": [
        "regressor.score(X_train,Y_train)"
      ],
      "execution_count": 22,
      "outputs": [
        {
          "output_type": "execute_result",
          "data": {
            "text/plain": [
              "1.0"
            ]
          },
          "metadata": {},
          "execution_count": 22
        }
      ]
    },
    {
      "cell_type": "code",
      "metadata": {
        "id": "74H1Az_0fRNi"
      },
      "source": [
        "y_pred = np.array(regressor.predict(X_test),dtype=int)\n",
        "Y_test = np.array(Y_test,dtype=int)"
      ],
      "execution_count": 23,
      "outputs": []
    },
    {
      "cell_type": "code",
      "metadata": {
        "colab": {
          "base_uri": "https://localhost:8080/"
        },
        "id": "V7faCjsqfoKT",
        "outputId": "043feeac-12f4-4661-ad33-e9ee4ff08f2c"
      },
      "source": [
        "print(y_pred)"
      ],
      "execution_count": 24,
      "outputs": [
        {
          "output_type": "stream",
          "name": "stdout",
          "text": [
            "[1100  755 4300 1106 2308 2887 1114  859 3953  967 3111 2651 1171 2604\n",
            "  446  244 1027  551  984 2719  928  938  516 1368  765  769 1447  324\n",
            " 1115  816 1572 4173 2295 1560 2876 1140 1206  473 1332 2583 2498  904\n",
            " 2660  625 1189  717 1467 1634 2320 1113  818 3123  891  930  292 1416\n",
            "  786 3079 1215  726  533 3163 2594 1353 2580 1101 1849  381  793 1101\n",
            "  748 2701 1396 1608 1350 1948  635  778 1440  362 2648 1227 1100 3084\n",
            "  935 1502 1308 1664 2876 1406 2521  875 1206  591 2807 1435  865 1178\n",
            " 2403 2854  890  551 1310  644 3349 1511 1207  901  583  348  762 1350\n",
            "  780 1053 1448  590  481  783  703 1178  744 3385  419  578 2372  751\n",
            " 1769 1427  425 4017 1488 1475 3588 1017  983 1564  705 2869 3842 2237\n",
            " 1333 1692  900 1427 1609 1041  777 2524  719 1035  922 1524 3326 2789\n",
            " 2534  204  860 2802 2533  990 1396 3908 2221 2869  848 1164 2661 2807\n",
            " 2358 3341 3216  998  900 1085 1187 2242  897 1495  179 1521 3370 1563\n",
            "  967 3007 1061 1252 1182 1357  740 1678 3385 1872  992  527 2752 2422\n",
            " 1586 2403  726  893  878 1071  204 5272  852  382 2664 3111 1649 1404\n",
            " 1071  973 1269 1366 2841 3687 1064  542 1165  855 1005 1371 1943 2521\n",
            "  137  740 2432 1898 4139 1411  588 3467  752 1348  143  901  963 1291\n",
            "  940  782 1435 1297 1068  348 1783 3842  962 1599  759  292  893 2403\n",
            " 2789  969 2836  929 2372 2068 3461  714 1354 1589 1055  661  747 3779\n",
            " 1287 1290 1499 3403  715 1905  871 1184 2358 2134 1140  911 1123  441\n",
            " 1102 1252  568 2771 3604  705  946  312  401  887 3468 2817 1129  899\n",
            " 1373  726  893 1161 3127 1039 1124 3234  645  901 1215 1124 1272  890\n",
            " 1435 2726 3424 2793  958  590 1146 3433 2885 1504  776 3036 2858 2807\n",
            " 1140  568 1064 2744 1423 3188  598  784 1463  673  822 1032 1236  914\n",
            " 1010  791 1070 1238  982 1392  690  761  390 3163 1276  990 2783 3746\n",
            " 1110 1422  506 1097  362  939 3090  813 1289  858 3039  926 1131 3079\n",
            " 2308 3003  866 1369 1392 2320 1889 2457  483 1342 1369 1199 1252 4874\n",
            "  819  446 2320 1354  505 1384 1408 1724 1427  838 1448  752 1005  523\n",
            " 3216 1472 1758 1113  859  535 3022  982 1223  889 2957  582 1480 1506\n",
            " 2342 3278  250  818  629  661  690  526 1317  971 1293 1594 3163 1513\n",
            "  750 1199 1138 1201 1124 1686  849 1586  670 1371 1017  712  763  735\n",
            " 1020  928 1308 1006  926 1396  845 2501 1087  815 2685 1357  923  285\n",
            " 2295  840 1488  305 1562 2504  716 1606 1608 1927 1275  838 1617 1885\n",
            " 1308 2965 2865 1178  530 1383  986 1277  577  604 1241  993  928  816\n",
            " 2187 2404 1311 2908 1270  470  838  429  984 3338 1020 2355 2998  348\n",
            " 1138  790 1072  966  552 1433 1973  403 5691 1316  897  756 3079 1115\n",
            " 1430  855 1045  790 2082  712 1755  530 1275 1144 1148 1169  561 2793\n",
            "  529  578  844 2555 1535  773 1157 2851 1444  897  672 3013  967 1092\n",
            " 2747 1347 4450  630  977 2295 1334 1187 1191 1529 1239  715 1151  595\n",
            "  623 3071 3699  763 1065 1347 2887 1434 2158  571 1122 3528  887 2535\n",
            " 1715  737 2748 1366 3003 2651  712  877 1069 1126 1218 2521  523 2999\n",
            " 1274  769  690 1001 1030 3480 1042 1025 4300  670 1175 1488  564 2719\n",
            " 1416 1553 1241 2859 1654  670 2308 5691  494  912 1186 1353  843  594\n",
            " 1124  295 3003 3719 1138 1456 1309  667 1604 2702 1366 1458 1299  871\n",
            " 1172 2533  390 1393  911 3825 1034 1165  958 1203  615 1557  117  680\n",
            " 1465  701 1926 3056 2612 1755 1404  808 1068 1395 2406  743 1562 1547\n",
            " 2785  787  650 1158 1443 1325 1207 2789 2559 2689  828 1560 1889 1120\n",
            " 1347 1216 1392  478 1221  804 1252 1392 2534 1016  939 1398 3271 1354\n",
            " 1047 2072  248 1167 3606 1140  332 1144 1466  948 2762 2703 2403 2792\n",
            " 2822 1291 2721 1609 1179 1123 3848 1366 3216  813 1008  392  697 3270\n",
            "  984  712 1191  890  929  858  583   92  893 3606 1435 3375 1684 1737\n",
            " 2434 1493  748  223  668 1506 2865  730 1114  676 2403 1803 2454 2905\n",
            " 2703  991 1167 2559  897  535  488 1150  740 1634 2877 2721  803  204\n",
            "  727 2885  893  205 1276  807 3018 2559 2885 1132 2687  693 1940  340\n",
            " 2783  899 1238 1369 2315 1600 1494 1905  568 1901  363 3684 3341  969\n",
            " 3323  571  893  976 1905 1184 1172  832 2328  272  689 1039 1308  963\n",
            "  401 3313  904 1252  819  860  793 1047 1650  784 1890 2305 1292  684\n",
            "  714  731  822 1216 3604  904 1248 1122  859 2184  860 1254 2315 1165\n",
            " 1064 1591  425 2766  731 1308]\n"
          ]
        }
      ]
    },
    {
      "cell_type": "code",
      "metadata": {
        "colab": {
          "base_uri": "https://localhost:8080/"
        },
        "id": "jZfYjPLOftPY",
        "outputId": "277400e1-a098-4a7c-bcc1-01eee680fb76"
      },
      "source": [
        "print(Y_test)"
      ],
      "execution_count": 25,
      "outputs": [
        {
          "output_type": "stream",
          "name": "stdout",
          "text": [
            "[[1224]\n",
            " [ 740]\n",
            " [4090]\n",
            " [1078]\n",
            " [2314]\n",
            " [2971]\n",
            " [1088]\n",
            " [ 641]\n",
            " [4041]\n",
            " [ 835]\n",
            " [3255]\n",
            " [2547]\n",
            " [1111]\n",
            " [2638]\n",
            " [ 451]\n",
            " [ 264]\n",
            " [1003]\n",
            " [ 543]\n",
            " [1003]\n",
            " [2931]\n",
            " [ 926]\n",
            " [ 941]\n",
            " [ 565]\n",
            " [1467]\n",
            " [ 640]\n",
            " [ 858]\n",
            " [1455]\n",
            " [ 302]\n",
            " [1111]\n",
            " [ 783]\n",
            " [1586]\n",
            " [4138]\n",
            " [2175]\n",
            " [1862]\n",
            " [2820]\n",
            " [1182]\n",
            " [1064]\n",
            " [ 551]\n",
            " [1281]\n",
            " [2537]\n",
            " [2550]\n",
            " [ 955]\n",
            " [2591]\n",
            " [ 626]\n",
            " [1060]\n",
            " [ 736]\n",
            " [1443]\n",
            " [1600]\n",
            " [2361]\n",
            " [1053]\n",
            " [ 790]\n",
            " [3327]\n",
            " [ 936]\n",
            " [1051]\n",
            " [ 265]\n",
            " [1446]\n",
            " [ 805]\n",
            " [3027]\n",
            " [1175]\n",
            " [ 723]\n",
            " [ 553]\n",
            " [3591]\n",
            " [2632]\n",
            " [1382]\n",
            " [2634]\n",
            " [1099]\n",
            " [1812]\n",
            " [ 368]\n",
            " [ 828]\n",
            " [1093]\n",
            " [ 739]\n",
            " [2699]\n",
            " [1441]\n",
            " [1534]\n",
            " [1349]\n",
            " [1859]\n",
            " [ 580]\n",
            " [ 808]\n",
            " [1368]\n",
            " [ 347]\n",
            " [2522]\n",
            " [1093]\n",
            " [1061]\n",
            " [3150]\n",
            " [ 943]\n",
            " [1532]\n",
            " [1283]\n",
            " [1615]\n",
            " [2860]\n",
            " [1306]\n",
            " [2663]\n",
            " [1069]\n",
            " [1225]\n",
            " [ 549]\n",
            " [2906]\n",
            " [1477]\n",
            " [ 847]\n",
            " [1372]\n",
            " [2507]\n",
            " [2917]\n",
            " [ 878]\n",
            " [ 568]\n",
            " [1240]\n",
            " [ 657]\n",
            " [2782]\n",
            " [1535]\n",
            " [1253]\n",
            " [ 914]\n",
            " [ 567]\n",
            " [ 663]\n",
            " [ 755]\n",
            " [1397]\n",
            " [ 758]\n",
            " [1082]\n",
            " [1504]\n",
            " [ 581]\n",
            " [ 484]\n",
            " [ 784]\n",
            " [ 695]\n",
            " [1198]\n",
            " [ 688]\n",
            " [3047]\n",
            " [ 440]\n",
            " [ 590]\n",
            " [2427]\n",
            " [ 752]\n",
            " [1743]\n",
            " [1535]\n",
            " [ 414]\n",
            " [4226]\n",
            " [1438]\n",
            " [1460]\n",
            " [3279]\n",
            " [1047]\n",
            " [ 945]\n",
            " [1602]\n",
            " [ 686]\n",
            " [3031]\n",
            " [3723]\n",
            " [2149]\n",
            " [1324]\n",
            " [1732]\n",
            " [ 905]\n",
            " [1477]\n",
            " [1555]\n",
            " [1070]\n",
            " [ 839]\n",
            " [2440]\n",
            " [ 748]\n",
            " [1061]\n",
            " [ 907]\n",
            " [1493]\n",
            " [3239]\n",
            " [2718]\n",
            " [2514]\n",
            " [ 196]\n",
            " [ 829]\n",
            " [2711]\n",
            " [2763]\n",
            " [1096]\n",
            " [1539]\n",
            " [3778]\n",
            " [2390]\n",
            " [3046]\n",
            " [ 849]\n",
            " [1129]\n",
            " [2623]\n",
            " [2895]\n",
            " [2414]\n",
            " [3565]\n",
            " [3086]\n",
            " [1080]\n",
            " [ 879]\n",
            " [1055]\n",
            " [1213]\n",
            " [2259]\n",
            " [ 890]\n",
            " [1497]\n",
            " [ 185]\n",
            " [1613]\n",
            " [3520]\n",
            " [1698]\n",
            " [1012]\n",
            " [3206]\n",
            " [1291]\n",
            " [1227]\n",
            " [1003]\n",
            " [1383]\n",
            " [ 751]\n",
            " [1876]\n",
            " [3134]\n",
            " [1957]\n",
            " [ 941]\n",
            " [ 513]\n",
            " [2714]\n",
            " [2384]\n",
            " [1353]\n",
            " [2755]\n",
            " [ 708]\n",
            " [ 888]\n",
            " [ 766]\n",
            " [1000]\n",
            " [ 179]\n",
            " [4872]\n",
            " [ 806]\n",
            " [ 357]\n",
            " [2855]\n",
            " [3043]\n",
            " [1666]\n",
            " [1380]\n",
            " [ 999]\n",
            " [1028]\n",
            " [1247]\n",
            " [1331]\n",
            " [2868]\n",
            " [3485]\n",
            " [1064]\n",
            " [ 539]\n",
            " [1167]\n",
            " [ 855]\n",
            " [ 994]\n",
            " [1218]\n",
            " [1902]\n",
            " [2551]\n",
            " [ 114]\n",
            " [ 748]\n",
            " [2544]\n",
            " [2042]\n",
            " [4120]\n",
            " [1480]\n",
            " [ 606]\n",
            " [3495]\n",
            " [ 761]\n",
            " [1572]\n",
            " [  92]\n",
            " [ 902]\n",
            " [ 760]\n",
            " [1334]\n",
            " [ 956]\n",
            " [ 729]\n",
            " [1441]\n",
            " [1295]\n",
            " [1051]\n",
            " [ 380]\n",
            " [1936]\n",
            " [3707]\n",
            " [ 986]\n",
            " [1624]\n",
            " [ 776]\n",
            " [ 298]\n",
            " [ 890]\n",
            " [3449]\n",
            " [2800]\n",
            " [ 978]\n",
            " [2896]\n",
            " [ 913]\n",
            " [2339]\n",
            " [2222]\n",
            " [3470]\n",
            " [ 693]\n",
            " [1311]\n",
            " [1598]\n",
            " [ 944]\n",
            " [ 664]\n",
            " [ 778]\n",
            " [3663]\n",
            " [1133]\n",
            " [1268]\n",
            " [1434]\n",
            " [3062]\n",
            " [ 689]\n",
            " [1959]\n",
            " [ 905]\n",
            " [1225]\n",
            " [2304]\n",
            " [2225]\n",
            " [1307]\n",
            " [ 903]\n",
            " [1050]\n",
            " [ 458]\n",
            " [1057]\n",
            " [1288]\n",
            " [ 586]\n",
            " [2859]\n",
            " [3434]\n",
            " [ 714]\n",
            " [ 933]\n",
            " [ 345]\n",
            " [ 398]\n",
            " [ 927]\n",
            " [3515]\n",
            " [2758]\n",
            " [1192]\n",
            " [ 848]\n",
            " [1398]\n",
            " [ 722]\n",
            " [ 913]\n",
            " [1121]\n",
            " [3192]\n",
            " [1116]\n",
            " [1167]\n",
            " [3018]\n",
            " [ 681]\n",
            " [ 906]\n",
            " [1059]\n",
            " [1114]\n",
            " [1235]\n",
            " [ 984]\n",
            " [1348]\n",
            " [2648]\n",
            " [3339]\n",
            " [2617]\n",
            " [ 972]\n",
            " [ 573]\n",
            " [1263]\n",
            " [3610]\n",
            " [2754]\n",
            " [1637]\n",
            " [ 789]\n",
            " [2886]\n",
            " [3103]\n",
            " [2723]\n",
            " [1109]\n",
            " [ 553]\n",
            " [1002]\n",
            " [2716]\n",
            " [1485]\n",
            " [3324]\n",
            " [ 564]\n",
            " [ 805]\n",
            " [1591]\n",
            " [ 684]\n",
            " [ 786]\n",
            " [1068]\n",
            " [1207]\n",
            " [ 815]\n",
            " [1001]\n",
            " [ 850]\n",
            " [1158]\n",
            " [1128]\n",
            " [ 925]\n",
            " [1362]\n",
            " [ 723]\n",
            " [ 708]\n",
            " [ 385]\n",
            " [3275]\n",
            " [1357]\n",
            " [1013]\n",
            " [2752]\n",
            " [3856]\n",
            " [1101]\n",
            " [1316]\n",
            " [ 433]\n",
            " [1063]\n",
            " [ 356]\n",
            " [ 916]\n",
            " [3053]\n",
            " [ 798]\n",
            " [1245]\n",
            " [1047]\n",
            " [2767]\n",
            " [ 918]\n",
            " [1104]\n",
            " [3154]\n",
            " [2233]\n",
            " [2848]\n",
            " [ 856]\n",
            " [1353]\n",
            " [1557]\n",
            " [2322]\n",
            " [1873]\n",
            " [2535]\n",
            " [ 492]\n",
            " [1332]\n",
            " [1374]\n",
            " [1395]\n",
            " [1250]\n",
            " [4257]\n",
            " [ 859]\n",
            " [ 422]\n",
            " [2206]\n",
            " [1370]\n",
            " [ 511]\n",
            " [1346]\n",
            " [1344]\n",
            " [1625]\n",
            " [1447]\n",
            " [ 835]\n",
            " [1536]\n",
            " [ 777]\n",
            " [1023]\n",
            " [ 603]\n",
            " [3171]\n",
            " [1402]\n",
            " [1881]\n",
            " [1072]\n",
            " [ 861]\n",
            " [ 502]\n",
            " [3420]\n",
            " [ 870]\n",
            " [1523]\n",
            " [ 871]\n",
            " [3007]\n",
            " [ 615]\n",
            " [1504]\n",
            " [1465]\n",
            " [2262]\n",
            " [3938]\n",
            " [ 248]\n",
            " [ 817]\n",
            " [ 654]\n",
            " [ 651]\n",
            " [ 678]\n",
            " [ 554]\n",
            " [1404]\n",
            " [ 962]\n",
            " [1359]\n",
            " [1544]\n",
            " [3282]\n",
            " [1520]\n",
            " [ 706]\n",
            " [1223]\n",
            " [1129]\n",
            " [1232]\n",
            " [1144]\n",
            " [1598]\n",
            " [ 791]\n",
            " [1553]\n",
            " [ 692]\n",
            " [1227]\n",
            " [ 955]\n",
            " [ 650]\n",
            " [ 776]\n",
            " [ 765]\n",
            " [1024]\n",
            " [ 945]\n",
            " [1339]\n",
            " [1003]\n",
            " [ 989]\n",
            " [1392]\n",
            " [ 904]\n",
            " [2442]\n",
            " [1030]\n",
            " [ 843]\n",
            " [2701]\n",
            " [1337]\n",
            " [ 887]\n",
            " [ 262]\n",
            " [2277]\n",
            " [ 738]\n",
            " [1495]\n",
            " [ 318]\n",
            " [1583]\n",
            " [2377]\n",
            " [ 709]\n",
            " [1449]\n",
            " [1573]\n",
            " [1898]\n",
            " [1126]\n",
            " [ 822]\n",
            " [1532]\n",
            " [1744]\n",
            " [1275]\n",
            " [3129]\n",
            " [2994]\n",
            " [1313]\n",
            " [ 510]\n",
            " [1449]\n",
            " [ 954]\n",
            " [1274]\n",
            " [ 547]\n",
            " [ 591]\n",
            " [1174]\n",
            " [ 938]\n",
            " [ 884]\n",
            " [ 775]\n",
            " [2359]\n",
            " [2708]\n",
            " [1244]\n",
            " [2886]\n",
            " [1239]\n",
            " [ 503]\n",
            " [ 916]\n",
            " [ 490]\n",
            " [ 992]\n",
            " [3502]\n",
            " [ 995]\n",
            " [2178]\n",
            " [2991]\n",
            " [ 483]\n",
            " [1119]\n",
            " [ 817]\n",
            " [1287]\n",
            " [ 973]\n",
            " [ 628]\n",
            " [1461]\n",
            " [1877]\n",
            " [ 330]\n",
            " [6331]\n",
            " [1216]\n",
            " [ 931]\n",
            " [ 801]\n",
            " [3192]\n",
            " [1022]\n",
            " [1372]\n",
            " [1279]\n",
            " [1024]\n",
            " [ 792]\n",
            " [1974]\n",
            " [ 752]\n",
            " [1867]\n",
            " [ 536]\n",
            " [1190]\n",
            " [1120]\n",
            " [1156]\n",
            " [1233]\n",
            " [ 508]\n",
            " [2716]\n",
            " [ 538]\n",
            " [ 595]\n",
            " [ 839]\n",
            " [2651]\n",
            " [1533]\n",
            " [ 802]\n",
            " [1113]\n",
            " [2845]\n",
            " [1522]\n",
            " [ 859]\n",
            " [ 684]\n",
            " [2952]\n",
            " [ 944]\n",
            " [1085]\n",
            " [2673]\n",
            " [1405]\n",
            " [4850]\n",
            " [ 562]\n",
            " [1025]\n",
            " [2339]\n",
            " [1285]\n",
            " [1036]\n",
            " [1208]\n",
            " [1544]\n",
            " [1271]\n",
            " [ 678]\n",
            " [1116]\n",
            " [ 607]\n",
            " [ 696]\n",
            " [3011]\n",
            " [3872]\n",
            " [ 744]\n",
            " [1061]\n",
            " [1286]\n",
            " [2888]\n",
            " [1427]\n",
            " [2352]\n",
            " [ 598]\n",
            " [1180]\n",
            " [3535]\n",
            " [ 882]\n",
            " [2451]\n",
            " [1737]\n",
            " [ 743]\n",
            " [2678]\n",
            " [1302]\n",
            " [3050]\n",
            " [2612]\n",
            " [ 756]\n",
            " [ 944]\n",
            " [1157]\n",
            " [1163]\n",
            " [1218]\n",
            " [2382]\n",
            " [ 571]\n",
            " [3185]\n",
            " [1314]\n",
            " [ 842]\n",
            " [ 701]\n",
            " [ 977]\n",
            " [ 946]\n",
            " [3293]\n",
            " [1031]\n",
            " [1068]\n",
            " [4330]\n",
            " [ 656]\n",
            " [1185]\n",
            " [1430]\n",
            " [ 576]\n",
            " [2741]\n",
            " [1482]\n",
            " [1516]\n",
            " [1061]\n",
            " [2885]\n",
            " [1676]\n",
            " [ 707]\n",
            " [2324]\n",
            " [6129]\n",
            " [ 532]\n",
            " [ 909]\n",
            " [1160]\n",
            " [1402]\n",
            " [ 871]\n",
            " [ 609]\n",
            " [1328]\n",
            " [ 293]\n",
            " [2937]\n",
            " [3821]\n",
            " [1120]\n",
            " [1515]\n",
            " [1332]\n",
            " [ 803]\n",
            " [1533]\n",
            " [2762]\n",
            " [1317]\n",
            " [1416]\n",
            " [1278]\n",
            " [ 869]\n",
            " [1178]\n",
            " [2460]\n",
            " [ 383]\n",
            " [1371]\n",
            " [ 922]\n",
            " [3814]\n",
            " [1030]\n",
            " [1173]\n",
            " [ 904]\n",
            " [1211]\n",
            " [ 632]\n",
            " [1572]\n",
            " [ 119]\n",
            " [ 663]\n",
            " [1542]\n",
            " [ 733]\n",
            " [2213]\n",
            " [2831]\n",
            " [2613]\n",
            " [1697]\n",
            " [1450]\n",
            " [ 770]\n",
            " [1083]\n",
            " [1347]\n",
            " [2403]\n",
            " [ 712]\n",
            " [1504]\n",
            " [1547]\n",
            " [2884]\n",
            " [ 861]\n",
            " [ 646]\n",
            " [1118]\n",
            " [1473]\n",
            " [1155]\n",
            " [1238]\n",
            " [2793]\n",
            " [2392]\n",
            " [2793]\n",
            " [ 822]\n",
            " [1451]\n",
            " [2127]\n",
            " [1147]\n",
            " [1308]\n",
            " [1189]\n",
            " [1446]\n",
            " [ 480]\n",
            " [1240]\n",
            " [ 809]\n",
            " [1226]\n",
            " [1420]\n",
            " [2544]\n",
            " [1061]\n",
            " [ 941]\n",
            " [1327]\n",
            " [3117]\n",
            " [1475]\n",
            " [1001]\n",
            " [2287]\n",
            " [ 234]\n",
            " [1156]\n",
            " [3681]\n",
            " [1149]\n",
            " [ 314]\n",
            " [1172]\n",
            " [1403]\n",
            " [ 993]\n",
            " [2810]\n",
            " [2609]\n",
            " [2960]\n",
            " [2937]\n",
            " [2881]\n",
            " [1353]\n",
            " [2566]\n",
            " [1585]\n",
            " [1201]\n",
            " [1180]\n",
            " [3942]\n",
            " [1371]\n",
            " [3124]\n",
            " [ 798]\n",
            " [ 980]\n",
            " [ 400]\n",
            " [ 662]\n",
            " [3287]\n",
            " [ 950]\n",
            " [ 842]\n",
            " [1222]\n",
            " [ 802]\n",
            " [ 952]\n",
            " [ 918]\n",
            " [ 624]\n",
            " [ 147]\n",
            " [ 890]\n",
            " [3464]\n",
            " [1493]\n",
            " [3176]\n",
            " [1505]\n",
            " [1660]\n",
            " [2466]\n",
            " [1494]\n",
            " [ 734]\n",
            " [ 224]\n",
            " [ 682]\n",
            " [1501]\n",
            " [2761]\n",
            " [ 739]\n",
            " [1211]\n",
            " [ 691]\n",
            " [2712]\n",
            " [1749]\n",
            " [2550]\n",
            " [3080]\n",
            " [2691]\n",
            " [ 895]\n",
            " [1692]\n",
            " [2626]\n",
            " [ 860]\n",
            " [ 515]\n",
            " [ 454]\n",
            " [1130]\n",
            " [ 802]\n",
            " [1530]\n",
            " [2936]\n",
            " [2612]\n",
            " [1065]\n",
            " [ 160]\n",
            " [ 678]\n",
            " [2933]\n",
            " [ 979]\n",
            " [ 185]\n",
            " [1529]\n",
            " [ 790]\n",
            " [2610]\n",
            " [2451]\n",
            " [2792]\n",
            " [1197]\n",
            " [2791]\n",
            " [ 684]\n",
            " [1924]\n",
            " [ 346]\n",
            " [2849]\n",
            " [ 835]\n",
            " [1168]\n",
            " [1488]\n",
            " [2319]\n",
            " [1583]\n",
            " [1364]\n",
            " [1811]\n",
            " [ 557]\n",
            " [1909]\n",
            " [ 322]\n",
            " [3837]\n",
            " [3616]\n",
            " [ 997]\n",
            " [3276]\n",
            " [ 523]\n",
            " [ 866]\n",
            " [1015]\n",
            " [1849]\n",
            " [1110]\n",
            " [1157]\n",
            " [ 887]\n",
            " [2582]\n",
            " [ 306]\n",
            " [ 682]\n",
            " [1016]\n",
            " [1290]\n",
            " [ 896]\n",
            " [ 437]\n",
            " [3119]\n",
            " [ 996]\n",
            " [1339]\n",
            " [ 823]\n",
            " [ 850]\n",
            " [ 807]\n",
            " [1243]\n",
            " [1633]\n",
            " [ 804]\n",
            " [1967]\n",
            " [2358]\n",
            " [1272]\n",
            " [ 682]\n",
            " [ 742]\n",
            " [ 693]\n",
            " [ 785]\n",
            " [1202]\n",
            " [3440]\n",
            " [1010]\n",
            " [1205]\n",
            " [1169]\n",
            " [ 650]\n",
            " [2102]\n",
            " [ 832]\n",
            " [1269]\n",
            " [2329]\n",
            " [1204]\n",
            " [1053]\n",
            " [1705]\n",
            " [ 428]\n",
            " [2920]\n",
            " [ 775]\n",
            " [1286]]\n"
          ]
        }
      ]
    },
    {
      "cell_type": "code",
      "metadata": {
        "id": "azc7vPf3f1Ux"
      },
      "source": [
        "y_pred = y_pred.reshape(-1,1)\n",
        "Y_test = Y_test.reshape(-1,1)"
      ],
      "execution_count": 26,
      "outputs": []
    },
    {
      "cell_type": "code",
      "metadata": {
        "id": "J-fD8Ysbf5ni"
      },
      "source": [
        "df = np.concatenate((Y_test,y_pred),axis=1)\n",
        "dataframe = pd.DataFrame(df,columns=['Actual Rainfall','Predicted Rainfall'])"
      ],
      "execution_count": 27,
      "outputs": []
    },
    {
      "cell_type": "code",
      "metadata": {
        "colab": {
          "base_uri": "https://localhost:8080/"
        },
        "id": "EaxM5n3CmtTh",
        "outputId": "ccce7783-ca0d-4a6a-f890-3caf19443897"
      },
      "source": [
        "print(dataframe)"
      ],
      "execution_count": 28,
      "outputs": [
        {
          "output_type": "stream",
          "name": "stdout",
          "text": [
            "     Actual Rainfall  Predicted Rainfall\n",
            "0               1224                1100\n",
            "1                740                 755\n",
            "2               4090                4300\n",
            "3               1078                1106\n",
            "4               2314                2308\n",
            "..               ...                 ...\n",
            "813             1705                1591\n",
            "814              428                 425\n",
            "815             2920                2766\n",
            "816              775                 731\n",
            "817             1286                1308\n",
            "\n",
            "[818 rows x 2 columns]\n"
          ]
        }
      ]
    },
    {
      "cell_type": "markdown",
      "metadata": {
        "id": "jlU4WaaImzNb"
      },
      "source": [
        "# Calculating Accuracy"
      ]
    },
    {
      "cell_type": "code",
      "metadata": {
        "colab": {
          "base_uri": "https://localhost:8080/"
        },
        "id": "acf0n9e4mx-a",
        "outputId": "a3937b9c-3630-43e7-e756-f590f60488ca"
      },
      "source": [
        "from sklearn.metrics import accuracy_score\n",
        "accuracy_score(Y_test,y_pred)"
      ],
      "execution_count": 29,
      "outputs": [
        {
          "output_type": "execute_result",
          "data": {
            "text/plain": [
              "0.004889975550122249"
            ]
          },
          "metadata": {},
          "execution_count": 29
        }
        
      ]
    }
  ]
}
